{
  "nbformat": 4,
  "nbformat_minor": 0,
  "metadata": {
    "colab": {
      "provenance": []
    },
    "kernelspec": {
      "name": "python3",
      "language": "python",
      "display_name": "Python 3 (ipykernel)"
    },
    "language_info": {
      "name": "python"
    }
  },
  "cells": [
    {
      "cell_type": "markdown",
      "source": [
        "Curso de<br>\n",
        "**Python para Data Science: primeiros passos**<br>\n",
        "`https://cursos.alura.com.br/course/python-data-science-primeiros-passos`"
      ],
      "metadata": {
        "id": "gW_Qu_QMDDky"
      }
    },
    {
      "cell_type": "code",
      "execution_count": 1,
      "metadata": {
        "colab": {
          "base_uri": "https://localhost:8080/"
        },
        "id": "GEa-U7YsCrdX",
        "outputId": "04c64e99-ca49-4c18-e80e-20ad196dceb4",
        "ExecuteTime": {
          "end_time": "2024-01-30T16:13:27.270360200Z",
          "start_time": "2024-01-30T16:13:27.171123200Z"
        }
      },
      "outputs": [
        {
          "output_type": "stream",
          "name": "stdout",
          "text": [
            "Python 3.10.12\n"
          ]
        }
      ],
      "source": [
        "!python --version"
      ]
    },
    {
      "cell_type": "code",
      "source": [
        "print('hello world')"
      ],
      "metadata": {
        "id": "GfQcX4u2DIcq",
        "colab": {
          "base_uri": "https://localhost:8080/"
        },
        "outputId": "61d9c024-e609-4f97-9fe7-1b2389c52c4e",
        "ExecuteTime": {
          "end_time": "2024-01-30T16:13:27.276357400Z",
          "start_time": "2024-01-30T16:13:27.234069300Z"
        }
      },
      "execution_count": 2,
      "outputs": [
        {
          "output_type": "stream",
          "name": "stdout",
          "text": [
            "hello world\n"
          ]
        }
      ]
    },
    {
      "cell_type": "code",
      "source": [
        "print(10)"
      ],
      "metadata": {
        "colab": {
          "base_uri": "https://localhost:8080/"
        },
        "id": "iz3cGQ1tGQ7Y",
        "outputId": "fba411d2-aa39-45cf-d5d7-3ac5ab255955",
        "ExecuteTime": {
          "end_time": "2024-01-30T16:13:27.277356700Z",
          "start_time": "2024-01-30T16:13:27.240308800Z"
        }
      },
      "execution_count": 3,
      "outputs": [
        {
          "output_type": "stream",
          "name": "stdout",
          "text": [
            "10\n"
          ]
        }
      ]
    },
    {
      "cell_type": "code",
      "source": [
        "print('100', 100)"
      ],
      "metadata": {
        "colab": {
          "base_uri": "https://localhost:8080/"
        },
        "id": "ddF9ByAyGvtR",
        "outputId": "a719822f-031f-46c0-cbdc-f35e906699c5",
        "ExecuteTime": {
          "end_time": "2024-01-30T16:13:27.352527700Z",
          "start_time": "2024-01-30T16:13:27.251323700Z"
        }
      },
      "execution_count": 4,
      "outputs": [
        {
          "output_type": "stream",
          "name": "stdout",
          "text": [
            "100 100\n"
          ]
        }
      ]
    },
    {
      "cell_type": "code",
      "source": [
        "print('escola de dados da alura')"
      ],
      "metadata": {
        "id": "IuVVpjDAG2-p",
        "ExecuteTime": {
          "end_time": "2024-01-30T16:13:39.928716200Z",
          "start_time": "2024-01-30T16:13:39.900157400Z"
        },
        "outputId": "d09f2965-5023-46b2-9ad8-04d786289600",
        "colab": {
          "base_uri": "https://localhost:8080/"
        }
      },
      "execution_count": 5,
      "outputs": [
        {
          "output_type": "stream",
          "name": "stdout",
          "text": [
            "escola de dados da alura\n"
          ]
        }
      ]
    },
    {
      "cell_type": "code",
      "outputs": [
        {
          "output_type": "stream",
          "name": "stdout",
          "text": [
            "Nome: [seu nome]\n",
            "Sobrenome: [seu sobrenome]\n"
          ]
        }
      ],
      "source": [
        "print('Nome:', '[seu nome]')\n",
        "print('Sobrenome:', '[seu sobrenome]')"
      ],
      "metadata": {
        "ExecuteTime": {
          "end_time": "2024-01-30T16:15:14.022890800Z",
          "start_time": "2024-01-30T16:15:14.010857500Z"
        },
        "id": "hhWybHTo-t9F",
        "outputId": "d7df2b71-1be5-4f47-a8d6-21abfce55ebf",
        "colab": {
          "base_uri": "https://localhost:8080/"
        }
      },
      "execution_count": 6
    },
    {
      "cell_type": "code",
      "outputs": [
        {
          "output_type": "stream",
          "name": "stdout",
          "text": [
            "n\n",
            "o\n",
            "m\n",
            "e\n"
          ]
        }
      ],
      "source": [
        "lista = ['n', 'o', 'm', 'e']\n",
        "\n",
        "for letra in lista:\n",
        "    print(letra)"
      ],
      "metadata": {
        "ExecuteTime": {
          "end_time": "2024-01-30T16:15:41.352526100Z",
          "start_time": "2024-01-30T16:15:41.339063800Z"
        },
        "id": "ryoYmdG--t9F",
        "outputId": "d72858a7-b410-42f0-873e-d700c87555ba",
        "colab": {
          "base_uri": "https://localhost:8080/"
        }
      },
      "execution_count": 7
    },
    {
      "cell_type": "code",
      "outputs": [
        {
          "output_type": "stream",
          "name": "stdout",
          "text": [
            "30 janeiro 2024\n"
          ]
        }
      ],
      "source": [
        "print(30, 'janeiro', 2024)"
      ],
      "metadata": {
        "ExecuteTime": {
          "end_time": "2024-01-30T16:16:02.715492600Z",
          "start_time": "2024-01-30T16:16:02.684995Z"
        },
        "id": "0_TRpT0u-t9G",
        "outputId": "8abd05f3-8186-4f79-a9db-6da4ed6a0350",
        "colab": {
          "base_uri": "https://localhost:8080/"
        }
      },
      "execution_count": 8
    },
    {
      "cell_type": "code",
      "outputs": [
        {
          "output_type": "stream",
          "name": "stdout",
          "text": [
            "ano atual: 2024\n"
          ]
        }
      ],
      "source": [
        "print('ano atual:', 2024)"
      ],
      "metadata": {
        "ExecuteTime": {
          "end_time": "2024-01-30T16:16:27.426266600Z",
          "start_time": "2024-01-30T16:16:27.410009Z"
        },
        "id": "BuuP59Hn-t9G",
        "outputId": "b8b82e81-275b-4b3c-fce4-b4736814cc34",
        "colab": {
          "base_uri": "https://localhost:8080/"
        }
      },
      "execution_count": 9
    },
    {
      "cell_type": "code",
      "source": [
        "idade = 5"
      ],
      "metadata": {
        "id": "1hOjt80-_uO1"
      },
      "execution_count": 10,
      "outputs": []
    },
    {
      "cell_type": "code",
      "source": [
        "print(idade)"
      ],
      "metadata": {
        "id": "y_SV4cIOAmfW",
        "outputId": "60553358-9b05-471e-beaf-25d6425535e4",
        "colab": {
          "base_uri": "https://localhost:8080/"
        }
      },
      "execution_count": 11,
      "outputs": [
        {
          "output_type": "stream",
          "name": "stdout",
          "text": [
            "5\n"
          ]
        }
      ]
    },
    {
      "cell_type": "code",
      "source": [
        "idade"
      ],
      "metadata": {
        "id": "fc6BDLZ1Aqdg",
        "outputId": "821bd3df-22fb-4d09-8903-e2276da6fd12",
        "colab": {
          "base_uri": "https://localhost:8080/"
        }
      },
      "execution_count": 12,
      "outputs": [
        {
          "output_type": "execute_result",
          "data": {
            "text/plain": [
              "5"
            ]
          },
          "metadata": {},
          "execution_count": 12
        }
      ]
    },
    {
      "cell_type": "code",
      "source": [
        "idade = 10"
      ],
      "metadata": {
        "id": "iAZkQtzRAq0w"
      },
      "execution_count": 13,
      "outputs": []
    },
    {
      "cell_type": "code",
      "source": [
        "print(idade)"
      ],
      "metadata": {
        "id": "iJbJud0GAwAk",
        "outputId": "57d35956-5c3c-465b-dd1e-61ac637602c8",
        "colab": {
          "base_uri": "https://localhost:8080/"
        }
      },
      "execution_count": 14,
      "outputs": [
        {
          "output_type": "stream",
          "name": "stdout",
          "text": [
            "10\n"
          ]
        }
      ]
    },
    {
      "cell_type": "code",
      "source": [
        "idade"
      ],
      "metadata": {
        "id": "UbZ6YHJQAwvb",
        "outputId": "2dbc6432-2723-4c6a-8a9f-ccd6e37d421f",
        "colab": {
          "base_uri": "https://localhost:8080/"
        }
      },
      "execution_count": 15,
      "outputs": [
        {
          "output_type": "execute_result",
          "data": {
            "text/plain": [
              "10"
            ]
          },
          "metadata": {},
          "execution_count": 15
        }
      ]
    },
    {
      "cell_type": "code",
      "source": [
        "nome = 'nome'"
      ],
      "metadata": {
        "id": "eLyb4sjGAxCR"
      },
      "execution_count": 16,
      "outputs": []
    },
    {
      "cell_type": "code",
      "source": [
        "nome"
      ],
      "metadata": {
        "id": "rMOwUy8MBUSA",
        "outputId": "043efd52-eeb0-40ec-accc-e6587830ed33",
        "colab": {
          "base_uri": "https://localhost:8080/",
          "height": 35
        }
      },
      "execution_count": 17,
      "outputs": [
        {
          "output_type": "execute_result",
          "data": {
            "text/plain": [
              "'nome'"
            ],
            "application/vnd.google.colaboratory.intrinsic+json": {
              "type": "string"
            }
          },
          "metadata": {},
          "execution_count": 17
        }
      ]
    },
    {
      "cell_type": "code",
      "source": [
        "idade, Idade, IDADE = 1, 2, 3"
      ],
      "metadata": {
        "id": "z8oSmtJEBUlD"
      },
      "execution_count": 18,
      "outputs": []
    },
    {
      "cell_type": "code",
      "source": [
        "idade, Idade, IDADE"
      ],
      "metadata": {
        "id": "gZ1Z9S8pB0Ln",
        "outputId": "cc65373b-445e-4a7f-c913-10e218d8ebb0",
        "colab": {
          "base_uri": "https://localhost:8080/"
        }
      },
      "execution_count": 19,
      "outputs": [
        {
          "output_type": "execute_result",
          "data": {
            "text/plain": [
              "(1, 2, 3)"
            ]
          },
          "metadata": {},
          "execution_count": 19
        }
      ]
    },
    {
      "cell_type": "code",
      "source": [
        "v = 3\n",
        "type(v)"
      ],
      "metadata": {
        "id": "0F_GwXxsCDf6",
        "outputId": "c65a4969-f4f7-42d5-e09a-ba2f98620504",
        "colab": {
          "base_uri": "https://localhost:8080/"
        }
      },
      "execution_count": 20,
      "outputs": [
        {
          "output_type": "execute_result",
          "data": {
            "text/plain": [
              "int"
            ]
          },
          "metadata": {},
          "execution_count": 20
        }
      ]
    },
    {
      "cell_type": "code",
      "source": [
        "v = 3.14\n",
        "type(v)"
      ],
      "metadata": {
        "id": "OS_JTEHsCSnK",
        "outputId": "d8cf7b89-6b96-4404-a85d-8b2ace45caa4",
        "colab": {
          "base_uri": "https://localhost:8080/"
        }
      },
      "execution_count": 21,
      "outputs": [
        {
          "output_type": "execute_result",
          "data": {
            "text/plain": [
              "float"
            ]
          },
          "metadata": {},
          "execution_count": 21
        }
      ]
    },
    {
      "cell_type": "code",
      "source": [
        "v = 'data science'\n",
        "type(v)"
      ],
      "metadata": {
        "id": "sQMYmrXJCUTB",
        "outputId": "ffa98c81-7b18-4d4d-a3b8-52a5182a7b09",
        "colab": {
          "base_uri": "https://localhost:8080/"
        }
      },
      "execution_count": 23,
      "outputs": [
        {
          "output_type": "execute_result",
          "data": {
            "text/plain": [
              "str"
            ]
          },
          "metadata": {},
          "execution_count": 23
        }
      ]
    },
    {
      "cell_type": "code",
      "source": [
        "v = True\n",
        "type(v)"
      ],
      "metadata": {
        "id": "tuaTjlpXCWcj",
        "outputId": "dd45bf6e-4e65-472b-8f75-c3a1a9fb8cc4",
        "colab": {
          "base_uri": "https://localhost:8080/"
        }
      },
      "execution_count": 24,
      "outputs": [
        {
          "output_type": "execute_result",
          "data": {
            "text/plain": [
              "bool"
            ]
          },
          "metadata": {},
          "execution_count": 24
        }
      ]
    },
    {
      "cell_type": "code",
      "source": [
        "nome_aluno = 'nome do aluno'\n",
        "idade_aluno = 10\n",
        "média_aluno = 8.45\n",
        "situação_aprovação = True #aprovado\n",
        "print(nome_aluno, idade_aluno, média_aluno, situação_aprovação)"
      ],
      "metadata": {
        "id": "uL8znSp1CpIT",
        "outputId": "f11bba13-080d-4dd5-abad-3ed8fccda35c",
        "colab": {
          "base_uri": "https://localhost:8080/"
        }
      },
      "execution_count": 26,
      "outputs": [
        {
          "output_type": "stream",
          "name": "stdout",
          "text": [
            "nome do aluno 10 8.45 True\n"
          ]
        }
      ]
    },
    {
      "cell_type": "code",
      "source": [
        "quantidade_seguranças = 5\n",
        "salário_seguranças = 3000\n",
        "\n",
        "quantidade_docentes = 16\n",
        "salário_docentes = 6000\n",
        "\n",
        "quantidade_diretores = 1\n",
        "salário_diretores = 12500"
      ],
      "metadata": {
        "id": "W8GA8if9D7L5"
      },
      "execution_count": 32,
      "outputs": []
    },
    {
      "cell_type": "code",
      "source": [
        "quantidade_seguranças + quantidade_docentes + quantidade_diretores"
      ],
      "metadata": {
        "id": "prn1LavTF50u",
        "outputId": "bbbfddce-fbf0-4bf3-b186-468d7a3f87c3",
        "colab": {
          "base_uri": "https://localhost:8080/"
        }
      },
      "execution_count": 33,
      "outputs": [
        {
          "output_type": "execute_result",
          "data": {
            "text/plain": [
              "22"
            ]
          },
          "metadata": {},
          "execution_count": 33
        }
      ]
    },
    {
      "cell_type": "code",
      "source": [
        "salário_diretores - salário_seguranças"
      ],
      "metadata": {
        "id": "PdcSVn78GN-2",
        "outputId": "85f084f6-68bd-4ff8-b606-53890f5ae024",
        "colab": {
          "base_uri": "https://localhost:8080/"
        }
      },
      "execution_count": 34,
      "outputs": [
        {
          "output_type": "execute_result",
          "data": {
            "text/plain": [
              "9500"
            ]
          },
          "metadata": {},
          "execution_count": 34
        }
      ]
    },
    {
      "cell_type": "code",
      "source": [
        "(salário_seguranças * quantidade_seguranças +\n",
        " salário_docentes * quantidade_docentes +\n",
        " salário_diretores * quantidade_diretores) / (quantidade_seguranças +\n",
        "                                              quantidade_docentes +\n",
        "                                              quantidade_diretores)"
      ],
      "metadata": {
        "id": "-n-M77ZmGRlg",
        "outputId": "fbce0f64-17fa-4283-cad8-fa2c6d3c2985",
        "colab": {
          "base_uri": "https://localhost:8080/"
        }
      },
      "execution_count": 39,
      "outputs": [
        {
          "output_type": "execute_result",
          "data": {
            "text/plain": [
              "5613.636363636364"
            ]
          },
          "metadata": {},
          "execution_count": 39
        }
      ]
    },
    {
      "cell_type": "code",
      "source": [
        "2 ** 3"
      ],
      "metadata": {
        "id": "xs9xPL5RGgYM",
        "outputId": "7eac969f-d88d-4b45-c6fd-b6f8a8e6f875",
        "colab": {
          "base_uri": "https://localhost:8080/"
        }
      },
      "execution_count": 40,
      "outputs": [
        {
          "output_type": "execute_result",
          "data": {
            "text/plain": [
              "8"
            ]
          },
          "metadata": {},
          "execution_count": 40
        }
      ]
    },
    {
      "cell_type": "code",
      "source": [
        "7 % 3"
      ],
      "metadata": {
        "id": "RLyQt2NYH1gg",
        "outputId": "e31d0d97-3e7a-408a-b2ae-49d8f0dd7fc3",
        "colab": {
          "base_uri": "https://localhost:8080/"
        }
      },
      "execution_count": 41,
      "outputs": [
        {
          "output_type": "execute_result",
          "data": {
            "text/plain": [
              "1"
            ]
          },
          "metadata": {},
          "execution_count": 41
        }
      ]
    },
    {
      "cell_type": "code",
      "source": [
        "7 // 3"
      ],
      "metadata": {
        "id": "9Ie4buXUH5yE",
        "outputId": "f3a423e3-72c5-4ffc-cd3d-32f48d0b582b",
        "colab": {
          "base_uri": "https://localhost:8080/"
        }
      },
      "execution_count": 42,
      "outputs": [
        {
          "output_type": "execute_result",
          "data": {
            "text/plain": [
              "2"
            ]
          },
          "metadata": {},
          "execution_count": 42
        }
      ]
    },
    {
      "cell_type": "code",
      "source": [
        "string_1 = 'bruno'\n",
        "string_2 = \"bruno\""
      ],
      "metadata": {
        "id": "Q0qVFVyIH82S"
      },
      "execution_count": 44,
      "outputs": []
    },
    {
      "cell_type": "code",
      "source": [
        "print(type(string_1), type(string_2))"
      ],
      "metadata": {
        "id": "LoGJmPxxIMIy",
        "outputId": "1873aba2-9430-44b0-c99d-b23d2e120bf6",
        "colab": {
          "base_uri": "https://localhost:8080/"
        }
      },
      "execution_count": 47,
      "outputs": [
        {
          "output_type": "stream",
          "name": "stdout",
          "text": [
            "<class 'str'> <class 'str'>\n"
          ]
        }
      ]
    },
    {
      "cell_type": "code",
      "source": [
        "texto = '  este é um texto PARA sER tradado  '"
      ],
      "metadata": {
        "id": "6oHvvCCbIPbd"
      },
      "execution_count": 62,
      "outputs": []
    },
    {
      "cell_type": "code",
      "source": [
        "texto.upper()"
      ],
      "metadata": {
        "id": "KdCQMzAoI--9",
        "outputId": "a2a29a5e-6514-467b-97af-0499e84eb5fc",
        "colab": {
          "base_uri": "https://localhost:8080/",
          "height": 35
        }
      },
      "execution_count": 63,
      "outputs": [
        {
          "output_type": "execute_result",
          "data": {
            "text/plain": [
              "'  ESTE É UM TEXTO PARA SER TRADADO  '"
            ],
            "application/vnd.google.colaboratory.intrinsic+json": {
              "type": "string"
            }
          },
          "metadata": {},
          "execution_count": 63
        }
      ]
    },
    {
      "cell_type": "code",
      "source": [
        "texto.lower()"
      ],
      "metadata": {
        "id": "gqMfBMu0JDL_",
        "outputId": "32f6d6d4-0786-46e5-ae0c-e443db6e3529",
        "colab": {
          "base_uri": "https://localhost:8080/",
          "height": 35
        }
      },
      "execution_count": 64,
      "outputs": [
        {
          "output_type": "execute_result",
          "data": {
            "text/plain": [
              "'  este é um texto para ser tradado  '"
            ],
            "application/vnd.google.colaboratory.intrinsic+json": {
              "type": "string"
            }
          },
          "metadata": {},
          "execution_count": 64
        }
      ]
    },
    {
      "cell_type": "code",
      "source": [
        "texto.strip()"
      ],
      "metadata": {
        "id": "LuT14YO9JJfw",
        "outputId": "80f5c72f-153c-4248-f98d-cbbd65b1e846",
        "colab": {
          "base_uri": "https://localhost:8080/",
          "height": 35
        }
      },
      "execution_count": 65,
      "outputs": [
        {
          "output_type": "execute_result",
          "data": {
            "text/plain": [
              "'este é um texto PARA sER tradado'"
            ],
            "application/vnd.google.colaboratory.intrinsic+json": {
              "type": "string"
            }
          },
          "metadata": {},
          "execution_count": 65
        }
      ]
    },
    {
      "cell_type": "code",
      "source": [
        "texto.replace"
      ],
      "metadata": {
        "id": "EasgeeBMJKrm",
        "outputId": "4ddf11b6-7850-4afb-aa73-136556790fad",
        "colab": {
          "base_uri": "https://localhost:8080/"
        }
      },
      "execution_count": 66,
      "outputs": [
        {
          "output_type": "execute_result",
          "data": {
            "text/plain": [
              "<function str.replace(old, new, count=-1, /)>"
            ]
          },
          "metadata": {},
          "execution_count": 66
        }
      ]
    },
    {
      "cell_type": "code",
      "source": [
        "texto = texto.replace('tradado', 'tratado').strip().upper()\n",
        "texto"
      ],
      "metadata": {
        "id": "aakTPemzJO8q",
        "outputId": "2969ff5c-fc84-490a-d984-b1f393f45a46",
        "colab": {
          "base_uri": "https://localhost:8080/",
          "height": 35
        }
      },
      "execution_count": 67,
      "outputs": [
        {
          "output_type": "execute_result",
          "data": {
            "text/plain": [
              "'ESTE É UM TEXTO PARA SER TRATADO'"
            ],
            "application/vnd.google.colaboratory.intrinsic+json": {
              "type": "string"
            }
          },
          "metadata": {},
          "execution_count": 67
        }
      ]
    },
    {
      "cell_type": "code",
      "source": [
        "chr(79) + chr(108) + chr(225)"
      ],
      "metadata": {
        "id": "HL-B4zpEJW9E",
        "outputId": "ada5a442-8581-4d8b-f589-a8ef3c777c23",
        "colab": {
          "base_uri": "https://localhost:8080/",
          "height": 35
        }
      },
      "execution_count": 68,
      "outputs": [
        {
          "output_type": "execute_result",
          "data": {
            "text/plain": [
              "'Olá'"
            ],
            "application/vnd.google.colaboratory.intrinsic+json": {
              "type": "string"
            }
          },
          "metadata": {},
          "execution_count": 68
        }
      ]
    },
    {
      "cell_type": "code",
      "source": [
        "nome = input('nome: ')"
      ],
      "metadata": {
        "id": "jfj2dO1mMeH1",
        "outputId": "2bc7892a-3c07-454c-e419-fab572823d99",
        "colab": {
          "base_uri": "https://localhost:8080/"
        }
      },
      "execution_count": 69,
      "outputs": [
        {
          "name": "stdout",
          "output_type": "stream",
          "text": [
            "nome: nome\n"
          ]
        }
      ]
    },
    {
      "cell_type": "code",
      "source": [
        "nome"
      ],
      "metadata": {
        "id": "Jp2hxv5SM8A0",
        "outputId": "1b94e503-f1c8-44cc-b96c-dc335945be4f",
        "colab": {
          "base_uri": "https://localhost:8080/",
          "height": 35
        }
      },
      "execution_count": 70,
      "outputs": [
        {
          "output_type": "execute_result",
          "data": {
            "text/plain": [
              "'nome'"
            ],
            "application/vnd.google.colaboratory.intrinsic+json": {
              "type": "string"
            }
          },
          "metadata": {},
          "execution_count": 70
        }
      ]
    },
    {
      "cell_type": "code",
      "source": [
        "type(nome)"
      ],
      "metadata": {
        "id": "9G2Ne5g7M9GZ",
        "outputId": "cecf25b8-446e-4a59-f2a3-07c4a5ed88e9",
        "colab": {
          "base_uri": "https://localhost:8080/"
        }
      },
      "execution_count": 71,
      "outputs": [
        {
          "output_type": "execute_result",
          "data": {
            "text/plain": [
              "str"
            ]
          },
          "metadata": {},
          "execution_count": 71
        }
      ]
    },
    {
      "cell_type": "code",
      "source": [
        "inteiro = int(input('inteiro: '))"
      ],
      "metadata": {
        "id": "QUaICOjGNNLY",
        "outputId": "a56a279a-7c57-4794-ab08-522f08d6ed7e",
        "colab": {
          "base_uri": "https://localhost:8080/"
        }
      },
      "execution_count": 72,
      "outputs": [
        {
          "name": "stdout",
          "output_type": "stream",
          "text": [
            "inteiro: 1\n"
          ]
        }
      ]
    },
    {
      "cell_type": "code",
      "source": [
        "type(inteiro)"
      ],
      "metadata": {
        "id": "P_aQ37aCNSln",
        "outputId": "5527899b-f591-4ad1-b1ca-a57a0cf828f7",
        "colab": {
          "base_uri": "https://localhost:8080/"
        }
      },
      "execution_count": 73,
      "outputs": [
        {
          "output_type": "execute_result",
          "data": {
            "text/plain": [
              "int"
            ]
          },
          "metadata": {},
          "execution_count": 73
        }
      ]
    },
    {
      "cell_type": "code",
      "source": [
        "ano_entrada = input('ano de entrada: ')"
      ],
      "metadata": {
        "id": "0wz2JQc2Nchc",
        "outputId": "b6e08a13-611e-466f-d142-68d4d68839fb",
        "colab": {
          "base_uri": "https://localhost:8080/"
        }
      },
      "execution_count": 75,
      "outputs": [
        {
          "name": "stdout",
          "output_type": "stream",
          "text": [
            "ano de entrada: 2024\n"
          ]
        }
      ]
    },
    {
      "cell_type": "code",
      "source": [
        "type(ano_entrada)"
      ],
      "metadata": {
        "id": "zArezI2kNhr0",
        "outputId": "dae5b7db-f439-49de-c714-a33e1a80eb19",
        "colab": {
          "base_uri": "https://localhost:8080/"
        }
      },
      "execution_count": 76,
      "outputs": [
        {
          "output_type": "execute_result",
          "data": {
            "text/plain": [
              "str"
            ]
          },
          "metadata": {},
          "execution_count": 76
        }
      ]
    },
    {
      "cell_type": "code",
      "source": [
        "ano_entrada = int(input('ano de entrada: '))"
      ],
      "metadata": {
        "id": "3m1J5PSKNjTV",
        "outputId": "326c79a3-bb13-40f3-c38b-524d0020dab0",
        "colab": {
          "base_uri": "https://localhost:8080/"
        }
      },
      "execution_count": 77,
      "outputs": [
        {
          "name": "stdout",
          "output_type": "stream",
          "text": [
            "ano de entrada: 2024\n"
          ]
        }
      ]
    },
    {
      "cell_type": "code",
      "source": [
        "type(ano_entrada)"
      ],
      "metadata": {
        "id": "5FW_A90kNn9-",
        "outputId": "b67ce33f-a3b6-4227-f144-e0e640a178c6",
        "colab": {
          "base_uri": "https://localhost:8080/"
        }
      },
      "execution_count": 78,
      "outputs": [
        {
          "output_type": "execute_result",
          "data": {
            "text/plain": [
              "int"
            ]
          },
          "metadata": {},
          "execution_count": 78
        }
      ]
    },
    {
      "cell_type": "code",
      "source": [
        "print(f'ano de entrada: {ano_entrada}')"
      ],
      "metadata": {
        "id": "p2BuI5PvNqCG",
        "outputId": "9cff6b4b-f1af-4e94-9a13-7cf0ff7bd05d",
        "colab": {
          "base_uri": "https://localhost:8080/"
        }
      },
      "execution_count": 79,
      "outputs": [
        {
          "output_type": "stream",
          "name": "stdout",
          "text": [
            "ano de entrada: 2024\n"
          ]
        }
      ]
    },
    {
      "cell_type": "code",
      "source": [
        "print('estudar é um esforço constante,\\né como cultivar uma planta')"
      ],
      "metadata": {
        "id": "WLDKiBpNN8qK",
        "outputId": "c22bba21-ad84-4c94-e80f-aa35c5df57fc",
        "colab": {
          "base_uri": "https://localhost:8080/"
        }
      },
      "execution_count": 80,
      "outputs": [
        {
          "output_type": "stream",
          "name": "stdout",
          "text": [
            "estudar é um esforço constante,\n",
            "é como cultivar uma planta\n"
          ]
        }
      ]
    },
    {
      "cell_type": "code",
      "source": [
        "print('quantidade\\tqualidade\\n5 amostras\\talta\\n3 amostras\\tbaixa')"
      ],
      "metadata": {
        "id": "6II_eyMERcSz",
        "outputId": "09c847bf-5e72-4bc9-874c-92961647d513",
        "colab": {
          "base_uri": "https://localhost:8080/"
        }
      },
      "execution_count": 81,
      "outputs": [
        {
          "output_type": "stream",
          "name": "stdout",
          "text": [
            "quantidade\tqualidade\n",
            "5 amostras\talta\n",
            "3 amostras\tbaixa\n"
          ]
        }
      ]
    },
    {
      "cell_type": "code",
      "source": [
        "print('caminho do arquivo: c:\\\\arquivos\\\\documento.csv')"
      ],
      "metadata": {
        "id": "EX757Y95RhBD",
        "outputId": "e4c6f98a-2465-4ca1-fa98-6d0bf9ffa560",
        "colab": {
          "base_uri": "https://localhost:8080/"
        }
      },
      "execution_count": 82,
      "outputs": [
        {
          "output_type": "stream",
          "name": "stdout",
          "text": [
            "caminho do arquivo: c:\\arquivos\\documento.csv\n"
          ]
        }
      ]
    },
    {
      "cell_type": "code",
      "source": [
        "print('minha professora uma vez disse \\'estudar é a chave do sucesso.\\' ')"
      ],
      "metadata": {
        "id": "hA2-qX-4Rqr5",
        "outputId": "a786451f-2bb3-4466-d1b6-1dcf9cb0958e",
        "colab": {
          "base_uri": "https://localhost:8080/"
        }
      },
      "execution_count": 83,
      "outputs": [
        {
          "output_type": "stream",
          "name": "stdout",
          "text": [
            "minha professora uma vez disse 'estudar é a chave do sucesso.' \n"
          ]
        }
      ]
    },
    {
      "cell_type": "code",
      "source": [],
      "metadata": {
        "id": "_wZeQSVFRymd"
      },
      "execution_count": null,
      "outputs": []
    }
  ]
}