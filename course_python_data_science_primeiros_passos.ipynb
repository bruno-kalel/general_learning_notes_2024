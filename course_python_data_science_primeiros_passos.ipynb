{
  "nbformat": 4,
  "nbformat_minor": 0,
  "metadata": {
    "colab": {
      "provenance": []
    },
    "kernelspec": {
      "name": "python3",
      "language": "python",
      "display_name": "Python 3 (ipykernel)"
    },
    "language_info": {
      "name": "python"
    }
  },
  "cells": [
    {
      "cell_type": "markdown",
      "source": [
        "Curso de<br>\n",
        "**Python para Data Science: primeiros passos**<br>\n",
        "`https://cursos.alura.com.br/course/python-data-science-primeiros-passos`"
      ],
      "metadata": {
        "id": "gW_Qu_QMDDky"
      }
    },
    {
      "cell_type": "code",
      "execution_count": null,
      "metadata": {
        "colab": {
          "base_uri": "https://localhost:8080/"
        },
        "id": "GEa-U7YsCrdX",
        "outputId": "4cc58a8f-8684-4ef2-c24b-3fbce5ed6206",
        "ExecuteTime": {
          "end_time": "2024-01-30T16:13:27.270360200Z",
          "start_time": "2024-01-30T16:13:27.171123200Z"
        }
      },
      "outputs": [
        {
          "output_type": "stream",
          "name": "stdout",
          "text": [
            "Python 3.10.12\n"
          ]
        }
      ],
      "source": [
        "!python --version"
      ]
    },
    {
      "cell_type": "code",
      "source": [
        "print('hello world')"
      ],
      "metadata": {
        "id": "GfQcX4u2DIcq",
        "colab": {
          "base_uri": "https://localhost:8080/"
        },
        "outputId": "bda91e04-8818-4123-e625-99c540c4cebb",
        "ExecuteTime": {
          "end_time": "2024-01-30T16:13:27.276357400Z",
          "start_time": "2024-01-30T16:13:27.234069300Z"
        }
      },
      "execution_count": null,
      "outputs": [
        {
          "output_type": "stream",
          "name": "stdout",
          "text": [
            "hello world\n"
          ]
        }
      ]
    },
    {
      "cell_type": "code",
      "source": [
        "print(10)"
      ],
      "metadata": {
        "colab": {
          "base_uri": "https://localhost:8080/"
        },
        "id": "iz3cGQ1tGQ7Y",
        "outputId": "e9d9e7f7-81fb-41ce-ea79-848a563145ec",
        "ExecuteTime": {
          "end_time": "2024-01-30T16:13:27.277356700Z",
          "start_time": "2024-01-30T16:13:27.240308800Z"
        }
      },
      "execution_count": null,
      "outputs": [
        {
          "output_type": "stream",
          "name": "stdout",
          "text": [
            "10\n"
          ]
        }
      ]
    },
    {
      "cell_type": "code",
      "source": [
        "print('100', 100)"
      ],
      "metadata": {
        "colab": {
          "base_uri": "https://localhost:8080/"
        },
        "id": "ddF9ByAyGvtR",
        "outputId": "17d7cb6e-33f0-4e24-9a44-b738b15975b2",
        "ExecuteTime": {
          "end_time": "2024-01-30T16:13:27.352527700Z",
          "start_time": "2024-01-30T16:13:27.251323700Z"
        }
      },
      "execution_count": null,
      "outputs": [
        {
          "output_type": "stream",
          "name": "stdout",
          "text": [
            "100 100\n"
          ]
        }
      ]
    },
    {
      "cell_type": "code",
      "source": [
        "print('escola de dados da alura')"
      ],
      "metadata": {
        "id": "IuVVpjDAG2-p",
        "ExecuteTime": {
          "end_time": "2024-01-30T16:13:39.928716200Z",
          "start_time": "2024-01-30T16:13:39.900157400Z"
        },
        "outputId": "448b2587-a76f-4f9e-8c27-0fc9e76d9be8",
        "colab": {
          "base_uri": "https://localhost:8080/"
        }
      },
      "execution_count": null,
      "outputs": [
        {
          "output_type": "stream",
          "name": "stdout",
          "text": [
            "escola de dados da alura\n"
          ]
        }
      ]
    },
    {
      "cell_type": "code",
      "outputs": [
        {
          "output_type": "stream",
          "name": "stdout",
          "text": [
            "Nome: [seu nome]\n",
            "Sobrenome: [seu sobrenome]\n"
          ]
        }
      ],
      "source": [
        "print('Nome:', '[seu nome]')\n",
        "print('Sobrenome:', '[seu sobrenome]')"
      ],
      "metadata": {
        "ExecuteTime": {
          "end_time": "2024-01-30T16:15:14.022890800Z",
          "start_time": "2024-01-30T16:15:14.010857500Z"
        },
        "id": "hhWybHTo-t9F",
        "outputId": "4bd70471-391d-4245-e111-99a70e31af77",
        "colab": {
          "base_uri": "https://localhost:8080/"
        }
      },
      "execution_count": null
    },
    {
      "cell_type": "code",
      "outputs": [
        {
          "output_type": "stream",
          "name": "stdout",
          "text": [
            "n\n",
            "o\n",
            "m\n",
            "e\n"
          ]
        }
      ],
      "source": [
        "lista = ['n', 'o', 'm', 'e']\n",
        "\n",
        "for letra in lista:\n",
        "    print(letra)"
      ],
      "metadata": {
        "ExecuteTime": {
          "end_time": "2024-01-30T16:15:41.352526100Z",
          "start_time": "2024-01-30T16:15:41.339063800Z"
        },
        "id": "ryoYmdG--t9F",
        "outputId": "ddc984a0-d706-41e6-e940-f68638b7e5a2",
        "colab": {
          "base_uri": "https://localhost:8080/"
        }
      },
      "execution_count": null
    },
    {
      "cell_type": "code",
      "outputs": [
        {
          "output_type": "stream",
          "name": "stdout",
          "text": [
            "30 janeiro 2024\n"
          ]
        }
      ],
      "source": [
        "print(30, 'janeiro', 2024)"
      ],
      "metadata": {
        "ExecuteTime": {
          "end_time": "2024-01-30T16:16:02.715492600Z",
          "start_time": "2024-01-30T16:16:02.684995Z"
        },
        "id": "0_TRpT0u-t9G",
        "outputId": "d2180f64-3372-495a-a944-b4361d0e5d15",
        "colab": {
          "base_uri": "https://localhost:8080/"
        }
      },
      "execution_count": null
    },
    {
      "cell_type": "code",
      "outputs": [
        {
          "output_type": "stream",
          "name": "stdout",
          "text": [
            "ano atual: 2024\n"
          ]
        }
      ],
      "source": [
        "print('ano atual:', 2024)"
      ],
      "metadata": {
        "ExecuteTime": {
          "end_time": "2024-01-30T16:16:27.426266600Z",
          "start_time": "2024-01-30T16:16:27.410009Z"
        },
        "id": "BuuP59Hn-t9G",
        "outputId": "26269dba-5d8d-4e05-a2dc-b2f1c8de67ff",
        "colab": {
          "base_uri": "https://localhost:8080/"
        }
      },
      "execution_count": null
    },
    {
      "cell_type": "code",
      "source": [
        "idade = 5"
      ],
      "metadata": {
        "id": "1hOjt80-_uO1"
      },
      "execution_count": null,
      "outputs": []
    },
    {
      "cell_type": "code",
      "source": [
        "print(idade)"
      ],
      "metadata": {
        "id": "y_SV4cIOAmfW",
        "outputId": "8971fd1c-8124-4dbc-a627-0c7ffb2b6253",
        "colab": {
          "base_uri": "https://localhost:8080/"
        }
      },
      "execution_count": null,
      "outputs": [
        {
          "output_type": "stream",
          "name": "stdout",
          "text": [
            "5\n"
          ]
        }
      ]
    },
    {
      "cell_type": "code",
      "source": [
        "idade"
      ],
      "metadata": {
        "id": "fc6BDLZ1Aqdg",
        "outputId": "902d46c7-0885-4f2d-a55d-3942a0304908",
        "colab": {
          "base_uri": "https://localhost:8080/"
        }
      },
      "execution_count": null,
      "outputs": [
        {
          "output_type": "execute_result",
          "data": {
            "text/plain": [
              "5"
            ]
          },
          "metadata": {},
          "execution_count": 12
        }
      ]
    },
    {
      "cell_type": "code",
      "source": [
        "idade = 10"
      ],
      "metadata": {
        "id": "iAZkQtzRAq0w"
      },
      "execution_count": null,
      "outputs": []
    },
    {
      "cell_type": "code",
      "source": [
        "print(idade)"
      ],
      "metadata": {
        "id": "iJbJud0GAwAk",
        "outputId": "f70746d9-2731-4b2c-8f66-2c11e420e644",
        "colab": {
          "base_uri": "https://localhost:8080/"
        }
      },
      "execution_count": null,
      "outputs": [
        {
          "output_type": "stream",
          "name": "stdout",
          "text": [
            "10\n"
          ]
        }
      ]
    },
    {
      "cell_type": "code",
      "source": [
        "idade"
      ],
      "metadata": {
        "id": "UbZ6YHJQAwvb",
        "outputId": "9e5e2fa1-b7ff-4914-87b7-ff9a32104444",
        "colab": {
          "base_uri": "https://localhost:8080/"
        }
      },
      "execution_count": null,
      "outputs": [
        {
          "output_type": "execute_result",
          "data": {
            "text/plain": [
              "10"
            ]
          },
          "metadata": {},
          "execution_count": 15
        }
      ]
    },
    {
      "cell_type": "code",
      "source": [
        "nome = 'nome'"
      ],
      "metadata": {
        "id": "eLyb4sjGAxCR"
      },
      "execution_count": null,
      "outputs": []
    },
    {
      "cell_type": "code",
      "source": [
        "nome"
      ],
      "metadata": {
        "id": "rMOwUy8MBUSA",
        "outputId": "f3ff53de-85cc-438d-d002-d6af49377e61",
        "colab": {
          "base_uri": "https://localhost:8080/",
          "height": 35
        }
      },
      "execution_count": null,
      "outputs": [
        {
          "output_type": "execute_result",
          "data": {
            "text/plain": [
              "'nome'"
            ],
            "application/vnd.google.colaboratory.intrinsic+json": {
              "type": "string"
            }
          },
          "metadata": {},
          "execution_count": 17
        }
      ]
    },
    {
      "cell_type": "code",
      "source": [
        "idade, Idade, IDADE = 1, 2, 3"
      ],
      "metadata": {
        "id": "z8oSmtJEBUlD"
      },
      "execution_count": null,
      "outputs": []
    },
    {
      "cell_type": "code",
      "source": [
        "idade, Idade, IDADE"
      ],
      "metadata": {
        "id": "gZ1Z9S8pB0Ln",
        "outputId": "897dd94c-912d-446f-e773-c4992fd7e97c",
        "colab": {
          "base_uri": "https://localhost:8080/"
        }
      },
      "execution_count": null,
      "outputs": [
        {
          "output_type": "execute_result",
          "data": {
            "text/plain": [
              "(1, 2, 3)"
            ]
          },
          "metadata": {},
          "execution_count": 19
        }
      ]
    },
    {
      "cell_type": "code",
      "source": [
        "v = 3\n",
        "type(v)"
      ],
      "metadata": {
        "id": "0F_GwXxsCDf6",
        "outputId": "067834e7-f656-4d13-cdde-f88d785e6e0d",
        "colab": {
          "base_uri": "https://localhost:8080/"
        }
      },
      "execution_count": null,
      "outputs": [
        {
          "output_type": "execute_result",
          "data": {
            "text/plain": [
              "int"
            ]
          },
          "metadata": {},
          "execution_count": 20
        }
      ]
    },
    {
      "cell_type": "code",
      "source": [
        "v = 3.14\n",
        "type(v)"
      ],
      "metadata": {
        "id": "OS_JTEHsCSnK",
        "outputId": "9797d05a-411f-4e29-9785-2d222ba8b75e",
        "colab": {
          "base_uri": "https://localhost:8080/"
        }
      },
      "execution_count": null,
      "outputs": [
        {
          "output_type": "execute_result",
          "data": {
            "text/plain": [
              "float"
            ]
          },
          "metadata": {},
          "execution_count": 21
        }
      ]
    },
    {
      "cell_type": "code",
      "source": [
        "v = 'data science'\n",
        "type(v)"
      ],
      "metadata": {
        "id": "sQMYmrXJCUTB",
        "outputId": "f0fb49f6-993b-413c-9c55-69df14d961ce",
        "colab": {
          "base_uri": "https://localhost:8080/"
        }
      },
      "execution_count": null,
      "outputs": [
        {
          "output_type": "execute_result",
          "data": {
            "text/plain": [
              "str"
            ]
          },
          "metadata": {},
          "execution_count": 22
        }
      ]
    },
    {
      "cell_type": "code",
      "source": [
        "v = True\n",
        "type(v)"
      ],
      "metadata": {
        "id": "tuaTjlpXCWcj",
        "outputId": "504c49b6-c99e-41be-f94a-bfa0f8c2a278",
        "colab": {
          "base_uri": "https://localhost:8080/"
        }
      },
      "execution_count": null,
      "outputs": [
        {
          "output_type": "execute_result",
          "data": {
            "text/plain": [
              "bool"
            ]
          },
          "metadata": {},
          "execution_count": 23
        }
      ]
    },
    {
      "cell_type": "code",
      "source": [
        "nome_aluno = 'nome do aluno'\n",
        "idade_aluno = 10\n",
        "média_aluno = 8.45\n",
        "situação_aprovação = True #aprovado\n",
        "print(nome_aluno, idade_aluno, média_aluno, situação_aprovação)"
      ],
      "metadata": {
        "id": "uL8znSp1CpIT",
        "outputId": "f077fa33-e55c-4e23-c574-149516087490",
        "colab": {
          "base_uri": "https://localhost:8080/"
        }
      },
      "execution_count": null,
      "outputs": [
        {
          "output_type": "stream",
          "name": "stdout",
          "text": [
            "nome do aluno 10 8.45 True\n"
          ]
        }
      ]
    },
    {
      "cell_type": "code",
      "source": [
        "quantidade_seguranças = 5\n",
        "salário_seguranças = 3000\n",
        "\n",
        "quantidade_docentes = 16\n",
        "salário_docentes = 6000\n",
        "\n",
        "quantidade_diretores = 1\n",
        "salário_diretores = 12500"
      ],
      "metadata": {
        "id": "W8GA8if9D7L5"
      },
      "execution_count": null,
      "outputs": []
    },
    {
      "cell_type": "code",
      "source": [
        "quantidade_seguranças + quantidade_docentes + quantidade_diretores"
      ],
      "metadata": {
        "id": "prn1LavTF50u",
        "outputId": "37798a1d-9826-4767-c94b-4e0f9652bf0d",
        "colab": {
          "base_uri": "https://localhost:8080/"
        }
      },
      "execution_count": null,
      "outputs": [
        {
          "output_type": "execute_result",
          "data": {
            "text/plain": [
              "22"
            ]
          },
          "metadata": {},
          "execution_count": 26
        }
      ]
    },
    {
      "cell_type": "code",
      "source": [
        "salário_diretores - salário_seguranças"
      ],
      "metadata": {
        "id": "PdcSVn78GN-2",
        "outputId": "d16fb365-a91b-479d-a357-7fad63236ff6",
        "colab": {
          "base_uri": "https://localhost:8080/"
        }
      },
      "execution_count": null,
      "outputs": [
        {
          "output_type": "execute_result",
          "data": {
            "text/plain": [
              "9500"
            ]
          },
          "metadata": {},
          "execution_count": 27
        }
      ]
    },
    {
      "cell_type": "code",
      "source": [
        "(salário_seguranças * quantidade_seguranças +\n",
        " salário_docentes * quantidade_docentes +\n",
        " salário_diretores * quantidade_diretores) / (quantidade_seguranças +\n",
        "                                              quantidade_docentes +\n",
        "                                              quantidade_diretores)"
      ],
      "metadata": {
        "id": "-n-M77ZmGRlg",
        "outputId": "0d66b894-b5a1-4528-9838-1e8deec20a69",
        "colab": {
          "base_uri": "https://localhost:8080/"
        }
      },
      "execution_count": null,
      "outputs": [
        {
          "output_type": "execute_result",
          "data": {
            "text/plain": [
              "5613.636363636364"
            ]
          },
          "metadata": {},
          "execution_count": 28
        }
      ]
    },
    {
      "cell_type": "code",
      "source": [
        "2 ** 3"
      ],
      "metadata": {
        "id": "xs9xPL5RGgYM",
        "outputId": "4c9b0a1d-cd01-4ab1-e4e8-eb38d200c8a7",
        "colab": {
          "base_uri": "https://localhost:8080/"
        }
      },
      "execution_count": null,
      "outputs": [
        {
          "output_type": "execute_result",
          "data": {
            "text/plain": [
              "8"
            ]
          },
          "metadata": {},
          "execution_count": 29
        }
      ]
    },
    {
      "cell_type": "code",
      "source": [
        "7 % 3"
      ],
      "metadata": {
        "id": "RLyQt2NYH1gg",
        "outputId": "7f5c6b42-a50f-4a29-8090-22766db629ef",
        "colab": {
          "base_uri": "https://localhost:8080/"
        }
      },
      "execution_count": null,
      "outputs": [
        {
          "output_type": "execute_result",
          "data": {
            "text/plain": [
              "1"
            ]
          },
          "metadata": {},
          "execution_count": 30
        }
      ]
    },
    {
      "cell_type": "code",
      "source": [
        "7 // 3"
      ],
      "metadata": {
        "id": "9Ie4buXUH5yE",
        "outputId": "eb1b3f30-2be1-4ada-c828-27ffef80a98f",
        "colab": {
          "base_uri": "https://localhost:8080/"
        }
      },
      "execution_count": null,
      "outputs": [
        {
          "output_type": "execute_result",
          "data": {
            "text/plain": [
              "2"
            ]
          },
          "metadata": {},
          "execution_count": 31
        }
      ]
    },
    {
      "cell_type": "code",
      "source": [
        "string_1 = 'bruno'\n",
        "string_2 = \"bruno\""
      ],
      "metadata": {
        "id": "Q0qVFVyIH82S"
      },
      "execution_count": null,
      "outputs": []
    },
    {
      "cell_type": "code",
      "source": [
        "print(type(string_1), type(string_2))"
      ],
      "metadata": {
        "id": "LoGJmPxxIMIy",
        "outputId": "be34ed97-c1d9-4520-9262-80728934278f",
        "colab": {
          "base_uri": "https://localhost:8080/"
        }
      },
      "execution_count": null,
      "outputs": [
        {
          "output_type": "stream",
          "name": "stdout",
          "text": [
            "<class 'str'> <class 'str'>\n"
          ]
        }
      ]
    },
    {
      "cell_type": "code",
      "source": [
        "texto = '  este é um texto PARA sER tradado  '"
      ],
      "metadata": {
        "id": "6oHvvCCbIPbd"
      },
      "execution_count": null,
      "outputs": []
    },
    {
      "cell_type": "code",
      "source": [
        "texto.upper()"
      ],
      "metadata": {
        "id": "KdCQMzAoI--9",
        "outputId": "d32c1b04-e3e6-49f6-866b-458e89e3456b",
        "colab": {
          "base_uri": "https://localhost:8080/",
          "height": 35
        }
      },
      "execution_count": null,
      "outputs": [
        {
          "output_type": "execute_result",
          "data": {
            "text/plain": [
              "'  ESTE É UM TEXTO PARA SER TRADADO  '"
            ],
            "application/vnd.google.colaboratory.intrinsic+json": {
              "type": "string"
            }
          },
          "metadata": {},
          "execution_count": 35
        }
      ]
    },
    {
      "cell_type": "code",
      "source": [
        "texto.lower()"
      ],
      "metadata": {
        "id": "gqMfBMu0JDL_",
        "outputId": "b0c7cc86-2d7b-4170-a948-cfabce05b5c9",
        "colab": {
          "base_uri": "https://localhost:8080/",
          "height": 35
        }
      },
      "execution_count": null,
      "outputs": [
        {
          "output_type": "execute_result",
          "data": {
            "text/plain": [
              "'  este é um texto para ser tradado  '"
            ],
            "application/vnd.google.colaboratory.intrinsic+json": {
              "type": "string"
            }
          },
          "metadata": {},
          "execution_count": 36
        }
      ]
    },
    {
      "cell_type": "code",
      "source": [
        "texto.strip()"
      ],
      "metadata": {
        "id": "LuT14YO9JJfw",
        "outputId": "d0293695-7a7e-410a-f192-635f0ad431c0",
        "colab": {
          "base_uri": "https://localhost:8080/",
          "height": 35
        }
      },
      "execution_count": null,
      "outputs": [
        {
          "output_type": "execute_result",
          "data": {
            "text/plain": [
              "'este é um texto PARA sER tradado'"
            ],
            "application/vnd.google.colaboratory.intrinsic+json": {
              "type": "string"
            }
          },
          "metadata": {},
          "execution_count": 37
        }
      ]
    },
    {
      "cell_type": "code",
      "source": [
        "texto.replace"
      ],
      "metadata": {
        "id": "EasgeeBMJKrm",
        "outputId": "c717ce9b-7e0d-4c8a-b04e-9d734266222b",
        "colab": {
          "base_uri": "https://localhost:8080/"
        }
      },
      "execution_count": null,
      "outputs": [
        {
          "output_type": "execute_result",
          "data": {
            "text/plain": [
              "<function str.replace(old, new, count=-1, /)>"
            ]
          },
          "metadata": {},
          "execution_count": 38
        }
      ]
    },
    {
      "cell_type": "code",
      "source": [
        "texto = texto.replace('tradado', 'tratado').strip().upper()\n",
        "texto"
      ],
      "metadata": {
        "id": "aakTPemzJO8q",
        "outputId": "7428d683-e95c-45f9-d3f9-8ac722fc43b4",
        "colab": {
          "base_uri": "https://localhost:8080/",
          "height": 35
        }
      },
      "execution_count": null,
      "outputs": [
        {
          "output_type": "execute_result",
          "data": {
            "text/plain": [
              "'ESTE É UM TEXTO PARA SER TRATADO'"
            ],
            "application/vnd.google.colaboratory.intrinsic+json": {
              "type": "string"
            }
          },
          "metadata": {},
          "execution_count": 39
        }
      ]
    },
    {
      "cell_type": "code",
      "source": [
        "chr(79) + chr(108) + chr(225)"
      ],
      "metadata": {
        "id": "HL-B4zpEJW9E",
        "outputId": "a9e89970-8141-4f74-b266-02c8e59cfbd4",
        "colab": {
          "base_uri": "https://localhost:8080/",
          "height": 35
        }
      },
      "execution_count": null,
      "outputs": [
        {
          "output_type": "execute_result",
          "data": {
            "text/plain": [
              "'Olá'"
            ],
            "application/vnd.google.colaboratory.intrinsic+json": {
              "type": "string"
            }
          },
          "metadata": {},
          "execution_count": 40
        }
      ]
    },
    {
      "cell_type": "code",
      "source": [
        "nome = input('nome: ')"
      ],
      "metadata": {
        "id": "jfj2dO1mMeH1",
        "outputId": "62591de6-e4c9-40ac-a31b-3ab97f90cb9b",
        "colab": {
          "base_uri": "https://localhost:8080/"
        }
      },
      "execution_count": null,
      "outputs": [
        {
          "name": "stdout",
          "output_type": "stream",
          "text": [
            "nome: nome\n"
          ]
        }
      ]
    },
    {
      "cell_type": "code",
      "source": [
        "nome"
      ],
      "metadata": {
        "id": "Jp2hxv5SM8A0",
        "outputId": "592a066f-bfeb-419e-a079-d245195ef77c",
        "colab": {
          "base_uri": "https://localhost:8080/",
          "height": 35
        }
      },
      "execution_count": null,
      "outputs": [
        {
          "output_type": "execute_result",
          "data": {
            "text/plain": [
              "'nome'"
            ],
            "application/vnd.google.colaboratory.intrinsic+json": {
              "type": "string"
            }
          },
          "metadata": {},
          "execution_count": 42
        }
      ]
    },
    {
      "cell_type": "code",
      "source": [
        "type(nome)"
      ],
      "metadata": {
        "id": "9G2Ne5g7M9GZ",
        "outputId": "976a9db3-9944-4547-f73f-d031ee24b212",
        "colab": {
          "base_uri": "https://localhost:8080/"
        }
      },
      "execution_count": null,
      "outputs": [
        {
          "output_type": "execute_result",
          "data": {
            "text/plain": [
              "str"
            ]
          },
          "metadata": {},
          "execution_count": 43
        }
      ]
    },
    {
      "cell_type": "code",
      "source": [
        "inteiro = int(input('inteiro: '))"
      ],
      "metadata": {
        "id": "QUaICOjGNNLY",
        "outputId": "afdc59fc-dab9-48af-f26b-e25f9c29eb4e",
        "colab": {
          "base_uri": "https://localhost:8080/"
        }
      },
      "execution_count": null,
      "outputs": [
        {
          "name": "stdout",
          "output_type": "stream",
          "text": [
            "inteiro: 2024\n"
          ]
        }
      ]
    },
    {
      "cell_type": "code",
      "source": [
        "type(inteiro)"
      ],
      "metadata": {
        "id": "P_aQ37aCNSln",
        "outputId": "ca48436d-bb13-4b7b-c07e-0e7a1ed4aa06",
        "colab": {
          "base_uri": "https://localhost:8080/"
        }
      },
      "execution_count": null,
      "outputs": [
        {
          "output_type": "execute_result",
          "data": {
            "text/plain": [
              "int"
            ]
          },
          "metadata": {},
          "execution_count": 45
        }
      ]
    },
    {
      "cell_type": "code",
      "source": [
        "ano_entrada = input('ano de entrada: ')"
      ],
      "metadata": {
        "id": "0wz2JQc2Nchc",
        "outputId": "2f084c56-1a16-4cea-9f5f-fe7135c14cc5",
        "colab": {
          "base_uri": "https://localhost:8080/"
        }
      },
      "execution_count": null,
      "outputs": [
        {
          "name": "stdout",
          "output_type": "stream",
          "text": [
            "ano de entrada: 2024\n"
          ]
        }
      ]
    },
    {
      "cell_type": "code",
      "source": [
        "type(ano_entrada)"
      ],
      "metadata": {
        "id": "zArezI2kNhr0",
        "outputId": "8ce9de48-be64-4fb1-c668-e10324bb9863",
        "colab": {
          "base_uri": "https://localhost:8080/"
        }
      },
      "execution_count": null,
      "outputs": [
        {
          "output_type": "execute_result",
          "data": {
            "text/plain": [
              "str"
            ]
          },
          "metadata": {},
          "execution_count": 47
        }
      ]
    },
    {
      "cell_type": "code",
      "source": [
        "ano_entrada = int(input('ano de entrada: '))"
      ],
      "metadata": {
        "id": "3m1J5PSKNjTV",
        "outputId": "4a666718-46f7-4a6e-e2a7-0c3edda7b228",
        "colab": {
          "base_uri": "https://localhost:8080/"
        }
      },
      "execution_count": null,
      "outputs": [
        {
          "name": "stdout",
          "output_type": "stream",
          "text": [
            "ano de entrada: 2024\n"
          ]
        }
      ]
    },
    {
      "cell_type": "code",
      "source": [
        "type(ano_entrada)"
      ],
      "metadata": {
        "id": "5FW_A90kNn9-",
        "outputId": "6410d92f-7232-4415-9032-604e560e43e5",
        "colab": {
          "base_uri": "https://localhost:8080/"
        }
      },
      "execution_count": null,
      "outputs": [
        {
          "output_type": "execute_result",
          "data": {
            "text/plain": [
              "int"
            ]
          },
          "metadata": {},
          "execution_count": 49
        }
      ]
    },
    {
      "cell_type": "code",
      "source": [
        "print(f'ano de entrada: {ano_entrada}')"
      ],
      "metadata": {
        "id": "p2BuI5PvNqCG",
        "outputId": "80c375cb-b86a-4542-cbf9-fa467b4f9f12",
        "colab": {
          "base_uri": "https://localhost:8080/"
        }
      },
      "execution_count": null,
      "outputs": [
        {
          "output_type": "stream",
          "name": "stdout",
          "text": [
            "ano de entrada: 2024\n"
          ]
        }
      ]
    },
    {
      "cell_type": "code",
      "source": [
        "print('estudar é um esforço constante,\\né como cultivar uma planta')"
      ],
      "metadata": {
        "id": "WLDKiBpNN8qK",
        "outputId": "b2dcc365-4947-483a-f40b-788396535ff8",
        "colab": {
          "base_uri": "https://localhost:8080/"
        }
      },
      "execution_count": null,
      "outputs": [
        {
          "output_type": "stream",
          "name": "stdout",
          "text": [
            "estudar é um esforço constante,\n",
            "é como cultivar uma planta\n"
          ]
        }
      ]
    },
    {
      "cell_type": "code",
      "source": [
        "print('quantidade\\tqualidade\\n5 amostras\\talta\\n3 amostras\\tbaixa')"
      ],
      "metadata": {
        "id": "6II_eyMERcSz",
        "outputId": "82521311-1b9b-4a71-f437-a23e12a32620",
        "colab": {
          "base_uri": "https://localhost:8080/"
        }
      },
      "execution_count": null,
      "outputs": [
        {
          "output_type": "stream",
          "name": "stdout",
          "text": [
            "quantidade\tqualidade\n",
            "5 amostras\talta\n",
            "3 amostras\tbaixa\n"
          ]
        }
      ]
    },
    {
      "cell_type": "code",
      "source": [
        "print('caminho do arquivo: c:\\\\arquivos\\\\documento.csv')"
      ],
      "metadata": {
        "id": "EX757Y95RhBD",
        "outputId": "b3ebaa70-a482-4b66-8788-c08fb1fa7b5a",
        "colab": {
          "base_uri": "https://localhost:8080/"
        }
      },
      "execution_count": null,
      "outputs": [
        {
          "output_type": "stream",
          "name": "stdout",
          "text": [
            "caminho do arquivo: c:\\arquivos\\documento.csv\n"
          ]
        }
      ]
    },
    {
      "cell_type": "code",
      "source": [
        "print('minha professora uma vez disse \\'estudar é a chave do sucesso.\\' ')"
      ],
      "metadata": {
        "id": "hA2-qX-4Rqr5",
        "outputId": "fbb505fa-620a-4f7f-bb07-8b3c2e90bbff",
        "colab": {
          "base_uri": "https://localhost:8080/"
        }
      },
      "execution_count": null,
      "outputs": [
        {
          "output_type": "stream",
          "name": "stdout",
          "text": [
            "minha professora uma vez disse 'estudar é a chave do sucesso.' \n"
          ]
        }
      ]
    },
    {
      "cell_type": "code",
      "source": [
        "2 < 7"
      ],
      "metadata": {
        "id": "_wZeQSVFRymd",
        "outputId": "0f4b8d5c-8e0a-48a0-e4b3-581bdef78cf3",
        "colab": {
          "base_uri": "https://localhost:8080/"
        }
      },
      "execution_count": null,
      "outputs": [
        {
          "output_type": "execute_result",
          "data": {
            "text/plain": [
              "True"
            ]
          },
          "metadata": {},
          "execution_count": 55
        }
      ]
    },
    {
      "cell_type": "code",
      "source": [
        "if 2 < 7:\n",
        "  print('verdadeiro')"
      ],
      "metadata": {
        "id": "zLgFOH78zmZK",
        "outputId": "0b1f490f-d85b-4e99-8874-4d67818affc7",
        "colab": {
          "base_uri": "https://localhost:8080/"
        }
      },
      "execution_count": null,
      "outputs": [
        {
          "output_type": "stream",
          "name": "stdout",
          "text": [
            "verdadeiro\n"
          ]
        }
      ]
    },
    {
      "cell_type": "code",
      "source": [
        "if 2 > 7:\n",
        "  print('verdadeiro')\n",
        "else:\n",
        "  print('falso')"
      ],
      "metadata": {
        "id": "Oo2IDzH_zsZh",
        "outputId": "c681d7d9-5946-4f7a-da43-742517a6d098",
        "colab": {
          "base_uri": "https://localhost:8080/"
        }
      },
      "execution_count": null,
      "outputs": [
        {
          "output_type": "stream",
          "name": "stdout",
          "text": [
            "falso\n"
          ]
        }
      ]
    },
    {
      "cell_type": "code",
      "source": [
        "1 != 2"
      ],
      "metadata": {
        "id": "16fgkY5Vz0Gj",
        "outputId": "755f0a87-d78b-4192-a712-309ef5ea54d0",
        "colab": {
          "base_uri": "https://localhost:8080/"
        }
      },
      "execution_count": null,
      "outputs": [
        {
          "output_type": "execute_result",
          "data": {
            "text/plain": [
              "True"
            ]
          },
          "metadata": {},
          "execution_count": 59
        }
      ]
    },
    {
      "cell_type": "code",
      "source": [
        "1 != '1'"
      ],
      "metadata": {
        "id": "NtM_1_0J09i9",
        "outputId": "122d5b70-47ab-4ab2-e61b-3608e2882186",
        "colab": {
          "base_uri": "https://localhost:8080/"
        }
      },
      "execution_count": null,
      "outputs": [
        {
          "output_type": "execute_result",
          "data": {
            "text/plain": [
              "True"
            ]
          },
          "metadata": {},
          "execution_count": 60
        }
      ]
    },
    {
      "cell_type": "code",
      "source": [
        "média = float(input('digite a média: '))\n",
        "\n",
        "if média >= 7.0:\n",
        "  print('aprovado')\n",
        "else:\n",
        "  print('reprovado')"
      ],
      "metadata": {
        "id": "RIqcRLtC0_R-",
        "outputId": "57ce5cc0-f338-4e1a-9cf2-bdef2a0b1b87",
        "colab": {
          "base_uri": "https://localhost:8080/"
        }
      },
      "execution_count": null,
      "outputs": [
        {
          "output_type": "stream",
          "name": "stdout",
          "text": [
            "digite a média: 4.0\n",
            "reprovado\n"
          ]
        }
      ]
    },
    {
      "cell_type": "code",
      "source": [
        "média = float(input('digite a média: '))\n",
        "\n",
        "if média >= 7.0:\n",
        "  print('aprovado')\n",
        "elif 5.0 <= média < 7.0:\n",
        "  print('recuperação')\n",
        "else:\n",
        "  print('reprovado')"
      ],
      "metadata": {
        "id": "upETdspZ13ZJ",
        "outputId": "736785a7-b956-4ed2-b727-cd9d134d575c",
        "colab": {
          "base_uri": "https://localhost:8080/"
        }
      },
      "execution_count": null,
      "outputs": [
        {
          "output_type": "stream",
          "name": "stdout",
          "text": [
            "digite a média: 5.5\n",
            "recuperação\n"
          ]
        }
      ]
    },
    {
      "cell_type": "code",
      "source": [
        "t1, t2, f1, f2, = True, True, False, False"
      ],
      "metadata": {
        "id": "Ym1RgATH2ZTi"
      },
      "execution_count": null,
      "outputs": []
    },
    {
      "cell_type": "code",
      "source": [
        "t1 and t2"
      ],
      "metadata": {
        "id": "MCFk9iTn5s2L",
        "outputId": "8505f438-b5cb-40ab-e469-f5d22ba3f744",
        "colab": {
          "base_uri": "https://localhost:8080/"
        }
      },
      "execution_count": null,
      "outputs": [
        {
          "output_type": "execute_result",
          "data": {
            "text/plain": [
              "True"
            ]
          },
          "metadata": {},
          "execution_count": 64
        }
      ]
    },
    {
      "cell_type": "code",
      "source": [
        "t1 and f2"
      ],
      "metadata": {
        "id": "7c63AJhl6DWI",
        "outputId": "d494d29e-a5f0-4e57-bf63-bf04a147bda5",
        "colab": {
          "base_uri": "https://localhost:8080/"
        }
      },
      "execution_count": null,
      "outputs": [
        {
          "output_type": "execute_result",
          "data": {
            "text/plain": [
              "False"
            ]
          },
          "metadata": {},
          "execution_count": 65
        }
      ]
    },
    {
      "cell_type": "code",
      "source": [
        "f1 and f2"
      ],
      "metadata": {
        "id": "kyvQWqrs6FRF",
        "outputId": "64b077b6-2159-493a-82ad-2ff7e7802a8d",
        "colab": {
          "base_uri": "https://localhost:8080/"
        }
      },
      "execution_count": null,
      "outputs": [
        {
          "output_type": "execute_result",
          "data": {
            "text/plain": [
              "False"
            ]
          },
          "metadata": {},
          "execution_count": 66
        }
      ]
    },
    {
      "cell_type": "code",
      "source": [
        "f1 or f2"
      ],
      "metadata": {
        "id": "mTonM1-S6GiB",
        "outputId": "85e5d5ce-122c-44a7-ba6a-39c8994634e8",
        "colab": {
          "base_uri": "https://localhost:8080/"
        }
      },
      "execution_count": null,
      "outputs": [
        {
          "output_type": "execute_result",
          "data": {
            "text/plain": [
              "False"
            ]
          },
          "metadata": {},
          "execution_count": 67
        }
      ]
    },
    {
      "cell_type": "code",
      "source": [
        "t1 or f1"
      ],
      "metadata": {
        "id": "NbLLMCwB6Kys",
        "outputId": "ecde9063-752b-4e01-9137-3bed59d95a7a",
        "colab": {
          "base_uri": "https://localhost:8080/"
        }
      },
      "execution_count": null,
      "outputs": [
        {
          "output_type": "execute_result",
          "data": {
            "text/plain": [
              "True"
            ]
          },
          "metadata": {},
          "execution_count": 68
        }
      ]
    },
    {
      "cell_type": "code",
      "source": [
        "not t1"
      ],
      "metadata": {
        "id": "TlT19cdp6Le0",
        "outputId": "8df47f93-f44e-4d9b-ed5b-666b15364535",
        "colab": {
          "base_uri": "https://localhost:8080/"
        }
      },
      "execution_count": null,
      "outputs": [
        {
          "output_type": "execute_result",
          "data": {
            "text/plain": [
              "False"
            ]
          },
          "metadata": {},
          "execution_count": 69
        }
      ]
    },
    {
      "cell_type": "code",
      "source": [
        "not f1"
      ],
      "metadata": {
        "id": "P5KlKwt56RIK",
        "outputId": "9db0dbf3-15d4-4868-981c-8bb521e73daa",
        "colab": {
          "base_uri": "https://localhost:8080/"
        }
      },
      "execution_count": null,
      "outputs": [
        {
          "output_type": "execute_result",
          "data": {
            "text/plain": [
              "True"
            ]
          },
          "metadata": {},
          "execution_count": 70
        }
      ]
    },
    {
      "cell_type": "code",
      "source": [
        "not (f1 or f2)"
      ],
      "metadata": {
        "id": "Qzw9432_6Rqm",
        "outputId": "f46c5282-83cd-4f81-91b9-e0dbd477b1bf",
        "colab": {
          "base_uri": "https://localhost:8080/"
        }
      },
      "execution_count": null,
      "outputs": [
        {
          "output_type": "execute_result",
          "data": {
            "text/plain": [
              "True"
            ]
          },
          "metadata": {},
          "execution_count": 71
        }
      ]
    },
    {
      "cell_type": "code",
      "source": [
        "texto = 'este é um texto'\n",
        "'é' in texto"
      ],
      "metadata": {
        "id": "IHhTP82-6Y3j",
        "outputId": "438f9980-7c47-4924-da78-23dfeaefc5c4",
        "colab": {
          "base_uri": "https://localhost:8080/"
        }
      },
      "execution_count": null,
      "outputs": [
        {
          "output_type": "execute_result",
          "data": {
            "text/plain": [
              "True"
            ]
          },
          "metadata": {},
          "execution_count": 73
        }
      ]
    },
    {
      "cell_type": "code",
      "source": [
        "'aqui' in texto"
      ],
      "metadata": {
        "id": "HtPSSgQW6mHo",
        "outputId": "9228b3f5-413d-4893-b1d4-a7b96495a1eb",
        "colab": {
          "base_uri": "https://localhost:8080/"
        }
      },
      "execution_count": null,
      "outputs": [
        {
          "output_type": "execute_result",
          "data": {
            "text/plain": [
              "False"
            ]
          },
          "metadata": {},
          "execution_count": 74
        }
      ]
    },
    {
      "cell_type": "code",
      "source": [
        "'aqui' not in texto"
      ],
      "metadata": {
        "id": "oJrgbXDi6qgt",
        "outputId": "1fd5b70a-e53e-48f1-a67e-5c931fe33049",
        "colab": {
          "base_uri": "https://localhost:8080/"
        }
      },
      "execution_count": null,
      "outputs": [
        {
          "output_type": "execute_result",
          "data": {
            "text/plain": [
              "True"
            ]
          },
          "metadata": {},
          "execution_count": 75
        }
      ]
    },
    {
      "cell_type": "code",
      "source": [
        "not ('e' in texto)"
      ],
      "metadata": {
        "id": "Ltyn_A9p6rl7",
        "outputId": "7e5350e5-dd96-4e3f-dffb-09f6dfa3a121",
        "colab": {
          "base_uri": "https://localhost:8080/"
        }
      },
      "execution_count": null,
      "outputs": [
        {
          "output_type": "execute_result",
          "data": {
            "text/plain": [
              "False"
            ]
          },
          "metadata": {},
          "execution_count": 76
        }
      ]
    },
    {
      "cell_type": "code",
      "source": [
        "for _ in range(2):\n",
        "  print(_)"
      ],
      "metadata": {
        "id": "hy7x1Xt67Deo",
        "outputId": "b247ddab-8341-4da3-b1be-90cfa26534aa",
        "colab": {
          "base_uri": "https://localhost:8080/"
        }
      },
      "execution_count": null,
      "outputs": [
        {
          "output_type": "stream",
          "name": "stdout",
          "text": [
            "0\n",
            "1\n"
          ]
        }
      ]
    },
    {
      "cell_type": "code",
      "source": [
        "for _ in range(1, 4, 2):\n",
        "  print(_)"
      ],
      "metadata": {
        "id": "f5t23n0uCczM",
        "outputId": "39f8b730-e0bd-42e1-e94e-be90e2afc0e7",
        "colab": {
          "base_uri": "https://localhost:8080/"
        }
      },
      "execution_count": null,
      "outputs": [
        {
          "output_type": "stream",
          "name": "stdout",
          "text": [
            "1\n",
            "3\n"
          ]
        }
      ]
    },
    {
      "cell_type": "code",
      "source": [
        "for _ in range(3):\n",
        "  nota_1 = float(input('nota_1: '))\n",
        "  nota_2 = float(input('nota 2: '))\n",
        "  print(f'média: {(nota_1 + nota_2) / 2}')"
      ],
      "metadata": {
        "id": "v697BgK38oaJ",
        "outputId": "9401ed0d-8362-4350-a594-f8073d01ca04",
        "colab": {
          "base_uri": "https://localhost:8080/"
        }
      },
      "execution_count": null,
      "outputs": [
        {
          "output_type": "stream",
          "name": "stdout",
          "text": [
            "nota_1: 5.5\n",
            "nota 2: 10\n",
            "média: 7.75\n",
            "nota_1: 8.0\n",
            "nota 2: 2\n",
            "média: 5.0\n",
            "nota_1: 7\n",
            "nota 2: 7.5\n",
            "média: 7.25\n"
          ]
        }
      ]
    },
    {
      "cell_type": "code",
      "source": [
        "contador = 1\n",
        "\n",
        "while contador <= 5:\n",
        "  print(contador)\n",
        "  contador += 1"
      ],
      "metadata": {
        "id": "eYlyR1zt9MzC",
        "outputId": "6005029b-bbd2-44bd-dd71-81e59c010bd1",
        "colab": {
          "base_uri": "https://localhost:8080/"
        }
      },
      "execution_count": null,
      "outputs": [
        {
          "output_type": "stream",
          "name": "stdout",
          "text": [
            "1\n",
            "2\n",
            "3\n",
            "4\n",
            "5\n"
          ]
        }
      ]
    },
    {
      "cell_type": "code",
      "source": [
        "preço = 2.00\n",
        "preço += 3\n",
        "preço"
      ],
      "metadata": {
        "id": "t0C_6QglALSd",
        "outputId": "ce28fb7d-37e6-43b8-c3e2-e355b84c462b",
        "colab": {
          "base_uri": "https://localhost:8080/"
        }
      },
      "execution_count": null,
      "outputs": [
        {
          "output_type": "execute_result",
          "data": {
            "text/plain": [
              "5.0"
            ]
          },
          "metadata": {},
          "execution_count": 90
        }
      ]
    },
    {
      "cell_type": "code",
      "source": [
        "preço = 2.00\n",
        "preço -= 3\n",
        "preço"
      ],
      "metadata": {
        "id": "pFfyaCSzANqm",
        "outputId": "cea16184-82e7-4d42-a5af-3d03e60dc5f4",
        "colab": {
          "base_uri": "https://localhost:8080/"
        }
      },
      "execution_count": null,
      "outputs": [
        {
          "output_type": "execute_result",
          "data": {
            "text/plain": [
              "-1.0"
            ]
          },
          "metadata": {},
          "execution_count": 91
        }
      ]
    },
    {
      "cell_type": "code",
      "source": [
        "preço = 2.00\n",
        "preço *= 3\n",
        "preço"
      ],
      "metadata": {
        "id": "pm_fy4vjAOgf",
        "outputId": "cac0c7e9-c89d-40cf-cba1-ae852aeb590b",
        "colab": {
          "base_uri": "https://localhost:8080/"
        }
      },
      "execution_count": null,
      "outputs": [
        {
          "output_type": "execute_result",
          "data": {
            "text/plain": [
              "6.0"
            ]
          },
          "metadata": {},
          "execution_count": 92
        }
      ]
    },
    {
      "cell_type": "code",
      "source": [
        "preço = 2.00\n",
        "preço /= 3\n",
        "preço"
      ],
      "metadata": {
        "id": "UsA0L0_aAPT9",
        "outputId": "99987a67-5a32-4232-9da4-0c8c5ecafbb5",
        "colab": {
          "base_uri": "https://localhost:8080/"
        }
      },
      "execution_count": null,
      "outputs": [
        {
          "output_type": "execute_result",
          "data": {
            "text/plain": [
              "0.6666666666666666"
            ]
          },
          "metadata": {},
          "execution_count": 93
        }
      ]
    },
    {
      "cell_type": "code",
      "source": [
        "preço = 2.00\n",
        "preço //= 3\n",
        "preço"
      ],
      "metadata": {
        "id": "4xcANB8FAQQt",
        "outputId": "bd182e4c-860a-4c4c-966c-2629e7d51436",
        "colab": {
          "base_uri": "https://localhost:8080/"
        }
      },
      "execution_count": null,
      "outputs": [
        {
          "output_type": "execute_result",
          "data": {
            "text/plain": [
              "0.0"
            ]
          },
          "metadata": {},
          "execution_count": 94
        }
      ]
    },
    {
      "cell_type": "code",
      "source": [
        "preço = 2.00\n",
        "preço %= 3\n",
        "preço"
      ],
      "metadata": {
        "id": "WV2V6II0ARj3",
        "outputId": "c35ce1e4-42b5-4728-a8e2-2e4ea5d9b3d4",
        "colab": {
          "base_uri": "https://localhost:8080/"
        }
      },
      "execution_count": null,
      "outputs": [
        {
          "output_type": "execute_result",
          "data": {
            "text/plain": [
              "2.0"
            ]
          },
          "metadata": {},
          "execution_count": 95
        }
      ]
    },
    {
      "cell_type": "code",
      "source": [
        "for _ in range (10):\n",
        "  if _ == 4 or _ == 8:\n",
        "    continue\n",
        "  print(_)"
      ],
      "metadata": {
        "id": "YgoSVQyAAfkR",
        "outputId": "504a0756-3dc8-4788-c422-11fb67db70d2",
        "colab": {
          "base_uri": "https://localhost:8080/"
        }
      },
      "execution_count": null,
      "outputs": [
        {
          "output_type": "stream",
          "name": "stdout",
          "text": [
            "0\n",
            "1\n",
            "2\n",
            "3\n",
            "5\n",
            "6\n",
            "7\n",
            "9\n"
          ]
        }
      ]
    },
    {
      "cell_type": "code",
      "source": [
        "for _ in range (10):\n",
        "  if _ == 4:\n",
        "    break\n",
        "  print(_)"
      ],
      "metadata": {
        "id": "L60uefheE6H2",
        "outputId": "e9cd7148-9e35-4706-eadf-5d699634d148",
        "colab": {
          "base_uri": "https://localhost:8080/"
        }
      },
      "execution_count": null,
      "outputs": [
        {
          "output_type": "stream",
          "name": "stdout",
          "text": [
            "0\n",
            "1\n",
            "2\n",
            "3\n"
          ]
        }
      ]
    },
    {
      "cell_type": "code",
      "source": [
        "lista = list()\n",
        "type(lista)"
      ],
      "metadata": {
        "id": "7YLb7LSjFENM",
        "outputId": "280ffde0-2ea1-4f51-92da-ce0a84619597",
        "colab": {
          "base_uri": "https://localhost:8080/"
        }
      },
      "execution_count": null,
      "outputs": [
        {
          "output_type": "execute_result",
          "data": {
            "text/plain": [
              "list"
            ]
          },
          "metadata": {},
          "execution_count": 106
        }
      ]
    },
    {
      "cell_type": "code",
      "source": [
        "lista = []\n",
        "type(lista)"
      ],
      "metadata": {
        "id": "kMAXh7eNHX50",
        "outputId": "3892d4e0-85a2-42da-d4bb-93090b9b2aa7",
        "colab": {
          "base_uri": "https://localhost:8080/"
        }
      },
      "execution_count": null,
      "outputs": [
        {
          "output_type": "execute_result",
          "data": {
            "text/plain": [
              "list"
            ]
          },
          "metadata": {},
          "execution_count": 107
        }
      ]
    },
    {
      "cell_type": "code",
      "source": [
        "lista = ['nome', 9.5, 9.0, 8.0, True]\n",
        "lista"
      ],
      "metadata": {
        "id": "g3qBhFFVHZbN",
        "outputId": "b0709a23-527e-4e1a-9ff6-c6f031160814",
        "colab": {
          "base_uri": "https://localhost:8080/"
        }
      },
      "execution_count": null,
      "outputs": [
        {
          "output_type": "execute_result",
          "data": {
            "text/plain": [
              "['nome', 9.5, 9.0, 8.0, True]"
            ]
          },
          "metadata": {},
          "execution_count": 108
        }
      ]
    },
    {
      "cell_type": "code",
      "source": [
        "lista[0]"
      ],
      "metadata": {
        "id": "xOJCCqT2Hxbl",
        "outputId": "9d56c065-7676-46a2-cffa-d2190de3dbe7",
        "colab": {
          "base_uri": "https://localhost:8080/",
          "height": 35
        }
      },
      "execution_count": null,
      "outputs": [
        {
          "output_type": "execute_result",
          "data": {
            "text/plain": [
              "'nome'"
            ],
            "application/vnd.google.colaboratory.intrinsic+json": {
              "type": "string"
            }
          },
          "metadata": {},
          "execution_count": 109
        }
      ]
    },
    {
      "cell_type": "code",
      "source": [
        "lista[1]"
      ],
      "metadata": {
        "id": "ulL-dzoxH4NT",
        "outputId": "98104702-cbee-4399-f734-688cce5bb9b5",
        "colab": {
          "base_uri": "https://localhost:8080/"
        }
      },
      "execution_count": null,
      "outputs": [
        {
          "output_type": "execute_result",
          "data": {
            "text/plain": [
              "9.5"
            ]
          },
          "metadata": {},
          "execution_count": 110
        }
      ]
    },
    {
      "cell_type": "code",
      "source": [
        "lista[-1]"
      ],
      "metadata": {
        "id": "A2nD88Y-H5CH",
        "outputId": "a57e9b5b-c7bb-443d-e356-0c74c4a3d773",
        "colab": {
          "base_uri": "https://localhost:8080/"
        }
      },
      "execution_count": null,
      "outputs": [
        {
          "output_type": "execute_result",
          "data": {
            "text/plain": [
              "True"
            ]
          },
          "metadata": {},
          "execution_count": 111
        }
      ]
    },
    {
      "cell_type": "code",
      "source": [
        "lista[-2]"
      ],
      "metadata": {
        "id": "1xfQjkVDH7Ax",
        "outputId": "89da61b7-ca70-4bf6-9528-37dc012d898a",
        "colab": {
          "base_uri": "https://localhost:8080/"
        }
      },
      "execution_count": null,
      "outputs": [
        {
          "output_type": "execute_result",
          "data": {
            "text/plain": [
              "8.0"
            ]
          },
          "metadata": {},
          "execution_count": 112
        }
      ]
    },
    {
      "cell_type": "code",
      "source": [
        "for item in lista:\n",
        "  print(item)"
      ],
      "metadata": {
        "id": "Lz61WJkhH-ZE",
        "outputId": "bff66734-4875-445c-fa99-1a2d4a728d90",
        "colab": {
          "base_uri": "https://localhost:8080/"
        }
      },
      "execution_count": null,
      "outputs": [
        {
          "output_type": "stream",
          "name": "stdout",
          "text": [
            "nome\n",
            "9.5\n",
            "9.0\n",
            "8.0\n",
            "True\n"
          ]
        }
      ]
    },
    {
      "cell_type": "code",
      "source": [
        "for item in lista:\n",
        "  print(lista)"
      ],
      "metadata": {
        "id": "Emxyl9nJISBJ",
        "outputId": "191375e2-822f-430d-fde8-e99d3a17add1",
        "colab": {
          "base_uri": "https://localhost:8080/"
        }
      },
      "execution_count": null,
      "outputs": [
        {
          "output_type": "stream",
          "name": "stdout",
          "text": [
            "['nome', 9.5, 9.0, 8.0, True]\n",
            "['nome', 9.5, 9.0, 8.0, True]\n",
            "['nome', 9.5, 9.0, 8.0, True]\n",
            "['nome', 9.5, 9.0, 8.0, True]\n",
            "['nome', 9.5, 9.0, 8.0, True]\n"
          ]
        }
      ]
    },
    {
      "cell_type": "code",
      "source": [
        "lista[0] = 'novo nome'\n",
        "lista"
      ],
      "metadata": {
        "id": "TBFa_SfZIU9z",
        "outputId": "42d49bda-f526-4e28-89b3-9e68d473f53a",
        "colab": {
          "base_uri": "https://localhost:8080/"
        }
      },
      "execution_count": null,
      "outputs": [
        {
          "output_type": "execute_result",
          "data": {
            "text/plain": [
              "['novo nome', 9.5, 9.0, 8.0, True]"
            ]
          },
          "metadata": {},
          "execution_count": 115
        }
      ]
    },
    {
      "cell_type": "code",
      "source": [
        "média = (lista[1] + lista[2] + lista[3]) / 3\n",
        "média"
      ],
      "metadata": {
        "id": "lX73Ra-6IuAF",
        "outputId": "965293c8-6242-42ac-dae4-0eb32e1ab9e3",
        "colab": {
          "base_uri": "https://localhost:8080/"
        }
      },
      "execution_count": null,
      "outputs": [
        {
          "output_type": "execute_result",
          "data": {
            "text/plain": [
              "8.833333333333334"
            ]
          },
          "metadata": {},
          "execution_count": 116
        }
      ]
    },
    {
      "cell_type": "code",
      "source": [
        "linguagem = 'python'"
      ],
      "metadata": {
        "id": "Oa-xoF2rI6-Z"
      },
      "execution_count": 1,
      "outputs": []
    },
    {
      "cell_type": "code",
      "source": [
        "for _ in range(len(linguagem)):\n",
        "  print(linguagem[_])"
      ],
      "metadata": {
        "id": "2O7Qz5Y1deSd",
        "outputId": "35b3317b-a7ae-4369-aac3-593a03b950a6",
        "colab": {
          "base_uri": "https://localhost:8080/"
        }
      },
      "execution_count": 3,
      "outputs": [
        {
          "output_type": "stream",
          "name": "stdout",
          "text": [
            "p\n",
            "y\n",
            "t\n",
            "h\n",
            "o\n",
            "n\n"
          ]
        }
      ]
    },
    {
      "cell_type": "code",
      "source": [
        "dúvida = 'quem veio antes? o ovo? ou a galinha?'\n",
        "dúvida.split('?')"
      ],
      "metadata": {
        "id": "mi3iHrC4eWBE",
        "outputId": "431899f3-9b35-4a57-f081-4e54ae9b8424",
        "colab": {
          "base_uri": "https://localhost:8080/"
        }
      },
      "execution_count": 9,
      "outputs": [
        {
          "output_type": "execute_result",
          "data": {
            "text/plain": [
              "['quem veio antes', ' o ovo', ' ou a galinha', '']"
            ]
          },
          "metadata": {},
          "execution_count": 9
        }
      ]
    },
    {
      "cell_type": "code",
      "source": [
        "misturas = ['tintas: vermelho, azul e amarelo',\n",
        "            'verde: mistura de azul e amarelo',\n",
        "            'laranja: mistura de vermelho e amarelo',\n",
        "            'roxo: mistura de vermelho e azul']\n",
        "'. '.join(misturas)"
      ],
      "metadata": {
        "id": "or0zTpAye-x9",
        "outputId": "b7b46ebc-1934-444b-fac5-ab090a5e4302",
        "colab": {
          "base_uri": "https://localhost:8080/",
          "height": 53
        }
      },
      "execution_count": 11,
      "outputs": [
        {
          "output_type": "execute_result",
          "data": {
            "text/plain": [
              "'tintas: vermelho, azul e amarelo. verde: mistura de azul e amarelo. laranja: mistura de vermelho e amarelo. roxo: mistura de vermelho e azul'"
            ],
            "application/vnd.google.colaboratory.intrinsic+json": {
              "type": "string"
            }
          },
          "metadata": {},
          "execution_count": 11
        }
      ]
    },
    {
      "cell_type": "code",
      "source": [
        "lista = ['a', 'b', 'c', 'd', 'e', 'f']\n",
        "lista = list('abcdef')"
      ],
      "metadata": {
        "id": "f_5V3hT9fUQk"
      },
      "execution_count": 42,
      "outputs": []
    },
    {
      "cell_type": "code",
      "source": [
        "len(lista)"
      ],
      "metadata": {
        "id": "Ki64b6jZgxyi",
        "outputId": "0c6c4efd-b954-46d2-8af8-487a173ddbed",
        "colab": {
          "base_uri": "https://localhost:8080/"
        }
      },
      "execution_count": 43,
      "outputs": [
        {
          "output_type": "execute_result",
          "data": {
            "text/plain": [
              "6"
            ]
          },
          "metadata": {},
          "execution_count": 43
        }
      ]
    },
    {
      "cell_type": "code",
      "source": [
        "lista[1:5]"
      ],
      "metadata": {
        "id": "7I4HcZXjgyqp",
        "outputId": "473507f7-94b5-4649-a9ea-a3f70237b6a0",
        "colab": {
          "base_uri": "https://localhost:8080/"
        }
      },
      "execution_count": 44,
      "outputs": [
        {
          "output_type": "execute_result",
          "data": {
            "text/plain": [
              "['b', 'c', 'd', 'e']"
            ]
          },
          "metadata": {},
          "execution_count": 44
        }
      ]
    },
    {
      "cell_type": "code",
      "source": [
        "lista[1:4]"
      ],
      "metadata": {
        "id": "HtW1FlRShAtp",
        "outputId": "f9b17039-635a-4aae-a6e5-0d18d9f7dd69",
        "colab": {
          "base_uri": "https://localhost:8080/"
        }
      },
      "execution_count": 45,
      "outputs": [
        {
          "output_type": "execute_result",
          "data": {
            "text/plain": [
              "['b', 'c', 'd']"
            ]
          },
          "metadata": {},
          "execution_count": 45
        }
      ]
    },
    {
      "cell_type": "code",
      "source": [
        "lista[:3]"
      ],
      "metadata": {
        "id": "e5PMmWmQhJyS",
        "outputId": "aa39bd26-82f0-430f-fe3f-ff3d07a3e254",
        "colab": {
          "base_uri": "https://localhost:8080/"
        }
      },
      "execution_count": 46,
      "outputs": [
        {
          "output_type": "execute_result",
          "data": {
            "text/plain": [
              "['a', 'b', 'c']"
            ]
          },
          "metadata": {},
          "execution_count": 46
        }
      ]
    },
    {
      "cell_type": "code",
      "source": [
        "lista[3:]"
      ],
      "metadata": {
        "id": "8dG2iRCjhLLr",
        "outputId": "90eb0841-0113-4246-c527-fed6a6a6e598",
        "colab": {
          "base_uri": "https://localhost:8080/"
        }
      },
      "execution_count": 47,
      "outputs": [
        {
          "output_type": "execute_result",
          "data": {
            "text/plain": [
              "['d', 'e', 'f']"
            ]
          },
          "metadata": {},
          "execution_count": 47
        }
      ]
    },
    {
      "cell_type": "code",
      "source": [
        "lista[:]"
      ],
      "metadata": {
        "id": "HHIOTW2ihVFI",
        "outputId": "aa202dac-f3eb-41fa-b4e9-d8b6a35a34f6",
        "colab": {
          "base_uri": "https://localhost:8080/"
        }
      },
      "execution_count": 48,
      "outputs": [
        {
          "output_type": "execute_result",
          "data": {
            "text/plain": [
              "['a', 'b', 'c', 'd', 'e', 'f']"
            ]
          },
          "metadata": {},
          "execution_count": 48
        }
      ]
    },
    {
      "cell_type": "code",
      "source": [
        "lista.append('g')\n",
        "lista"
      ],
      "metadata": {
        "id": "pizbxhz2h37J",
        "outputId": "9f9de2ff-31c4-45af-f6a0-36703c494531",
        "colab": {
          "base_uri": "https://localhost:8080/"
        }
      },
      "execution_count": 49,
      "outputs": [
        {
          "output_type": "execute_result",
          "data": {
            "text/plain": [
              "['a', 'b', 'c', 'd', 'e', 'f', 'g']"
            ]
          },
          "metadata": {},
          "execution_count": 49
        }
      ]
    },
    {
      "cell_type": "code",
      "source": [
        "lista.extend(['h', 'i', 'j', 'k'])\n",
        "lista"
      ],
      "metadata": {
        "id": "DtbAjb2oiBBo",
        "outputId": "3bb90e7e-28db-4321-9245-cdcea744ee73",
        "colab": {
          "base_uri": "https://localhost:8080/"
        }
      },
      "execution_count": 50,
      "outputs": [
        {
          "output_type": "execute_result",
          "data": {
            "text/plain": [
              "['a', 'b', 'c', 'd', 'e', 'f', 'g', 'h', 'i', 'j', 'k']"
            ]
          },
          "metadata": {},
          "execution_count": 50
        }
      ]
    },
    {
      "cell_type": "code",
      "source": [
        "lista.remove('k')\n",
        "lista"
      ],
      "metadata": {
        "id": "LkU9ol-tiPOY",
        "outputId": "65092058-08b6-4c8a-8c23-e97b1d249f19",
        "colab": {
          "base_uri": "https://localhost:8080/"
        }
      },
      "execution_count": 51,
      "outputs": [
        {
          "output_type": "execute_result",
          "data": {
            "text/plain": [
              "['a', 'b', 'c', 'd', 'e', 'f', 'g', 'h', 'i', 'j']"
            ]
          },
          "metadata": {},
          "execution_count": 51
        }
      ]
    },
    {
      "cell_type": "code",
      "source": [],
      "metadata": {
        "id": "-neGR9G6ilJA"
      },
      "execution_count": null,
      "outputs": []
    }
  ]
}