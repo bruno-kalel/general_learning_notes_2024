{
  "nbformat": 4,
  "nbformat_minor": 0,
  "metadata": {
    "colab": {
      "provenance": []
    },
    "kernelspec": {
      "name": "python3",
      "display_name": "Python 3"
    },
    "language_info": {
      "name": "python"
    }
  },
  "cells": [
    {
      "cell_type": "markdown",
      "source": [
        "Curso de<br>\n",
        "**Python para Data Science: primeiros passos**<br>\n",
        "`https://cursos.alura.com.br/course/python-data-science-primeiros-passos`"
      ],
      "metadata": {
        "id": "gW_Qu_QMDDky"
      }
    },
    {
      "cell_type": "code",
      "execution_count": 3,
      "metadata": {
        "colab": {
          "base_uri": "https://localhost:8080/"
        },
        "id": "GEa-U7YsCrdX",
        "outputId": "8abb2fdf-2df1-4e4d-f682-0a1866fa9251"
      },
      "outputs": [
        {
          "output_type": "stream",
          "name": "stdout",
          "text": [
            "Python 3.10.12\n"
          ]
        }
      ],
      "source": [
        "!python --version"
      ]
    },
    {
      "cell_type": "code",
      "source": [
        "print('hello world')"
      ],
      "metadata": {
        "id": "GfQcX4u2DIcq",
        "colab": {
          "base_uri": "https://localhost:8080/"
        },
        "outputId": "f65dcb5f-e89e-402e-9cea-286256751c59"
      },
      "execution_count": 4,
      "outputs": [
        {
          "output_type": "stream",
          "name": "stdout",
          "text": [
            "hello world\n"
          ]
        }
      ]
    },
    {
      "cell_type": "code",
      "source": [
        "print(10)"
      ],
      "metadata": {
        "colab": {
          "base_uri": "https://localhost:8080/"
        },
        "id": "iz3cGQ1tGQ7Y",
        "outputId": "f16d48c1-c5d3-466f-99dc-62b40f849eed"
      },
      "execution_count": 5,
      "outputs": [
        {
          "output_type": "stream",
          "name": "stdout",
          "text": [
            "10\n"
          ]
        }
      ]
    },
    {
      "cell_type": "code",
      "source": [
        "print('100', 100)"
      ],
      "metadata": {
        "colab": {
          "base_uri": "https://localhost:8080/"
        },
        "id": "ddF9ByAyGvtR",
        "outputId": "dd9856a5-d862-434d-869e-655d7d043c49"
      },
      "execution_count": 6,
      "outputs": [
        {
          "output_type": "stream",
          "name": "stdout",
          "text": [
            "100 100\n"
          ]
        }
      ]
    },
    {
      "cell_type": "code",
      "source": [],
      "metadata": {
        "id": "IuVVpjDAG2-p"
      },
      "execution_count": null,
      "outputs": []
    }
  ]
}