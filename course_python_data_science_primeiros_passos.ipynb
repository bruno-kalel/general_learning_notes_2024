{
 "nbformat": 4,
 "nbformat_minor": 0,
 "metadata": {
  "colab": {
   "provenance": []
  },
  "kernelspec": {
   "name": "python3",
   "language": "python",
   "display_name": "Python 3 (ipykernel)"
  },
  "language_info": {
   "name": "python"
  }
 },
 "cells": [
  {
   "cell_type": "markdown",
   "source": [
    "Curso de<br>\n",
    "**Python para Data Science: primeiros passos**<br>\n",
    "`https://cursos.alura.com.br/course/python-data-science-primeiros-passos`"
   ],
   "metadata": {
    "id": "gW_Qu_QMDDky"
   }
  },
  {
   "cell_type": "code",
   "execution_count": 1,
   "metadata": {
    "colab": {
     "base_uri": "https://localhost:8080/"
    },
    "id": "GEa-U7YsCrdX",
    "outputId": "8abb2fdf-2df1-4e4d-f682-0a1866fa9251",
    "ExecuteTime": {
     "end_time": "2024-01-30T16:13:27.270360200Z",
     "start_time": "2024-01-30T16:13:27.171123200Z"
    }
   },
   "outputs": [
    {
     "name": "stdout",
     "output_type": "stream",
     "text": [
      "Python 3.12.1\n"
     ]
    }
   ],
   "source": [
    "!python --version"
   ]
  },
  {
   "cell_type": "code",
   "source": [
    "print('hello world')"
   ],
   "metadata": {
    "id": "GfQcX4u2DIcq",
    "colab": {
     "base_uri": "https://localhost:8080/"
    },
    "outputId": "f65dcb5f-e89e-402e-9cea-286256751c59",
    "ExecuteTime": {
     "end_time": "2024-01-30T16:13:27.276357400Z",
     "start_time": "2024-01-30T16:13:27.234069300Z"
    }
   },
   "execution_count": 2,
   "outputs": [
    {
     "name": "stdout",
     "output_type": "stream",
     "text": [
      "hello world\n"
     ]
    }
   ]
  },
  {
   "cell_type": "code",
   "source": [
    "print(10)"
   ],
   "metadata": {
    "colab": {
     "base_uri": "https://localhost:8080/"
    },
    "id": "iz3cGQ1tGQ7Y",
    "outputId": "f16d48c1-c5d3-466f-99dc-62b40f849eed",
    "ExecuteTime": {
     "end_time": "2024-01-30T16:13:27.277356700Z",
     "start_time": "2024-01-30T16:13:27.240308800Z"
    }
   },
   "execution_count": 3,
   "outputs": [
    {
     "name": "stdout",
     "output_type": "stream",
     "text": [
      "10\n"
     ]
    }
   ]
  },
  {
   "cell_type": "code",
   "source": [
    "print('100', 100)"
   ],
   "metadata": {
    "colab": {
     "base_uri": "https://localhost:8080/"
    },
    "id": "ddF9ByAyGvtR",
    "outputId": "dd9856a5-d862-434d-869e-655d7d043c49",
    "ExecuteTime": {
     "end_time": "2024-01-30T16:13:27.352527700Z",
     "start_time": "2024-01-30T16:13:27.251323700Z"
    }
   },
   "execution_count": 4,
   "outputs": [
    {
     "name": "stdout",
     "output_type": "stream",
     "text": [
      "100 100\n"
     ]
    }
   ]
  },
  {
   "cell_type": "code",
   "source": [
    "print('escola de dados da alura')"
   ],
   "metadata": {
    "id": "IuVVpjDAG2-p",
    "ExecuteTime": {
     "end_time": "2024-01-30T16:13:39.928716200Z",
     "start_time": "2024-01-30T16:13:39.900157400Z"
    }
   },
   "execution_count": 5,
   "outputs": [
    {
     "name": "stdout",
     "output_type": "stream",
     "text": [
      "escola de dados da alura\n"
     ]
    }
   ]
  },
  {
   "cell_type": "code",
   "outputs": [
    {
     "name": "stdout",
     "output_type": "stream",
     "text": [
      "Nome: [seu nome]\n",
      "Sobrenome: [seu sobrenome]\n"
     ]
    }
   ],
   "source": [
    "print('Nome:', '[seu nome]')\n",
    "print('Sobrenome:', '[seu sobrenome]')"
   ],
   "metadata": {
    "collapsed": false,
    "ExecuteTime": {
     "end_time": "2024-01-30T16:15:14.022890800Z",
     "start_time": "2024-01-30T16:15:14.010857500Z"
    }
   },
   "execution_count": 9
  },
  {
   "cell_type": "code",
   "outputs": [
    {
     "name": "stdout",
     "output_type": "stream",
     "text": [
      "n\n",
      "o\n",
      "m\n",
      "e\n"
     ]
    }
   ],
   "source": [
    "lista = ['n', 'o', 'm', 'e']\n",
    "\n",
    "for letra in lista:\n",
    "    print(letra)"
   ],
   "metadata": {
    "collapsed": false,
    "ExecuteTime": {
     "end_time": "2024-01-30T16:15:41.352526100Z",
     "start_time": "2024-01-30T16:15:41.339063800Z"
    }
   },
   "execution_count": 10
  },
  {
   "cell_type": "code",
   "outputs": [
    {
     "name": "stdout",
     "output_type": "stream",
     "text": [
      "30 janeiro 2024\n"
     ]
    }
   ],
   "source": [
    "print(30, 'janeiro', 2024)"
   ],
   "metadata": {
    "collapsed": false,
    "ExecuteTime": {
     "end_time": "2024-01-30T16:16:02.715492600Z",
     "start_time": "2024-01-30T16:16:02.684995Z"
    }
   },
   "execution_count": 11
  },
  {
   "cell_type": "code",
   "outputs": [
    {
     "name": "stdout",
     "output_type": "stream",
     "text": [
      "ano atual: 2024\n"
     ]
    }
   ],
   "source": [
    "print('ano atual:', 2024)"
   ],
   "metadata": {
    "collapsed": false,
    "ExecuteTime": {
     "end_time": "2024-01-30T16:16:27.426266600Z",
     "start_time": "2024-01-30T16:16:27.410009Z"
    }
   },
   "execution_count": 12
  }
 ]
}
